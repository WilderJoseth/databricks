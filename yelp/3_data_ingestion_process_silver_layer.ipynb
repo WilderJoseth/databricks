{
 "cells": [
  {
   "cell_type": "markdown",
   "metadata": {
    "application/vnd.databricks.v1+cell": {
     "cellMetadata": {},
     "inputWidgets": {},
     "nuid": "a738eabe-9605-4757-b2c3-b01cf2216796",
     "showTitle": false,
     "tableResultSettingsMap": {},
     "title": ""
    }
   },
   "source": [
    "# Yelp"
   ]
  },
  {
   "cell_type": "markdown",
   "metadata": {
    "application/vnd.databricks.v1+cell": {
     "cellMetadata": {},
     "inputWidgets": {},
     "nuid": "be4ec0ba-8bec-41ab-93fb-889572c2e7aa",
     "showTitle": false,
     "tableResultSettingsMap": {},
     "title": ""
    }
   },
   "source": [
    "## 1. Introduction\n",
    "\n",
    "The purpose of this notebook is to implement an inital and incremental load for SILVER stage."
   ]
  },
  {
   "cell_type": "markdown",
   "metadata": {
    "application/vnd.databricks.v1+cell": {
     "cellMetadata": {},
     "inputWidgets": {},
     "nuid": "a7287a6f-bac5-4b8f-9823-dea9c096699b",
     "showTitle": false,
     "tableResultSettingsMap": {},
     "title": ""
    }
   },
   "source": [
    "## 2. Environment setup"
   ]
  },
  {
   "cell_type": "code",
   "execution_count": 0,
   "metadata": {
    "application/vnd.databricks.v1+cell": {
     "cellMetadata": {
      "byteLimit": 2048000,
      "implicitDf": true,
      "rowLimit": 10000
     },
     "inputWidgets": {},
     "nuid": "6821a567-c578-4d2b-b1e7-da284d49bf54",
     "showTitle": false,
     "tableResultSettingsMap": {},
     "title": ""
    }
   },
   "outputs": [],
   "source": [
    "%sql\n",
    "USE CATALOG training_catalog;"
   ]
  },
  {
   "cell_type": "code",
   "execution_count": 0,
   "metadata": {
    "application/vnd.databricks.v1+cell": {
     "cellMetadata": {
      "byteLimit": 2048000,
      "implicitDf": true,
      "rowLimit": 10000
     },
     "inputWidgets": {},
     "nuid": "d8ecb320-c12f-459c-b802-feb548fdec0a",
     "showTitle": false,
     "tableResultSettingsMap": {},
     "title": ""
    }
   },
   "outputs": [],
   "source": [
    "%sql\n",
    "USE SCHEMA yelp_db;"
   ]
  },
  {
   "cell_type": "code",
   "execution_count": 0,
   "metadata": {
    "application/vnd.databricks.v1+cell": {
     "cellMetadata": {
      "byteLimit": 2048000,
      "implicitDf": true,
      "rowLimit": 10000
     },
     "inputWidgets": {},
     "nuid": "7985694e-4045-4d09-b582-8b00b520e91a",
     "showTitle": false,
     "tableResultSettingsMap": {},
     "title": ""
    }
   },
   "outputs": [],
   "source": [
    "%sql\n",
    "SELECT current_catalog() AS current_catalog, current_schema() AS current_schema;"
   ]
  },
  {
   "cell_type": "markdown",
   "metadata": {
    "application/vnd.databricks.v1+cell": {
     "cellMetadata": {},
     "inputWidgets": {},
     "nuid": "85c6fbbb-72de-4258-a65e-d2e504055d1e",
     "showTitle": false,
     "tableResultSettingsMap": {},
     "title": ""
    }
   },
   "source": [
    "## 3. Transform"
   ]
  },
  {
   "cell_type": "markdown",
   "metadata": {
    "application/vnd.databricks.v1+cell": {
     "cellMetadata": {},
     "inputWidgets": {},
     "nuid": "771d9d20-023d-4e69-ac43-f2f26757f434",
     "showTitle": false,
     "tableResultSettingsMap": {},
     "title": ""
    }
   },
   "source": [
    "### 3.1. Data profiling"
   ]
  },
  {
   "cell_type": "markdown",
   "metadata": {
    "application/vnd.databricks.v1+cell": {
     "cellMetadata": {},
     "inputWidgets": {},
     "nuid": "01ed850b-e2cc-4f64-bab9-b3aa6acbc490",
     "showTitle": false,
     "tableResultSettingsMap": {},
     "title": ""
    }
   },
   "source": [
    "#### 3.1.1. Identify missing values"
   ]
  },
  {
   "cell_type": "markdown",
   "metadata": {
    "application/vnd.databricks.v1+cell": {
     "cellMetadata": {},
     "inputWidgets": {},
     "nuid": "0ef03e31-fca6-485a-85c2-4190d43dc31c",
     "showTitle": false,
     "tableResultSettingsMap": {},
     "title": ""
    }
   },
   "source": [
    "##### Business"
   ]
  },
  {
   "cell_type": "code",
   "execution_count": 0,
   "metadata": {
    "application/vnd.databricks.v1+cell": {
     "cellMetadata": {
      "byteLimit": 2048000,
      "implicitDf": true,
      "rowLimit": 10000
     },
     "inputWidgets": {},
     "nuid": "0d3dd65e-31cd-483f-baf8-c0f205cfeb28",
     "showTitle": false,
     "tableResultSettingsMap": {},
     "title": ""
    }
   },
   "outputs": [],
   "source": [
    "%sql\n",
    "CREATE OR REPLACE TEMP VIEW vw_business_missing_values AS\n",
    "SELECT column_name, missing_count\n",
    "FROM (\n",
    "  SELECT\n",
    "    COUNT(CASE WHEN address IS NULL OR TRIM(address) = '' THEN 1 END) AS missing_address,\n",
    "    COUNT(CASE WHEN city IS NULL OR TRIM(city) = '' THEN 1 END) AS missing_city,\n",
    "    COUNT(CASE WHEN state IS NULL OR TRIM(state) = '' THEN 1 END) AS missing_state,\n",
    "    COUNT(CASE WHEN postal_code IS NULL OR TRIM(postal_code) = '' THEN 1 END) AS missing_postal_code,\n",
    "    COUNT(CASE WHEN latitude IS NULL THEN 1 END) AS missing_latitude,\n",
    "    COUNT(CASE WHEN longitude IS NULL THEN 1 END) AS missing_longitude,\n",
    "    COUNT(CASE WHEN stars IS NULL THEN 1 END) AS missing_stars,\n",
    "    COUNT(CASE WHEN review_count IS NULL THEN 1 END) AS missing_review_count,\n",
    "    COUNT(CASE WHEN is_open IS NULL THEN 1 END) AS missing_is_open,\n",
    "    COUNT(CASE WHEN attributes IS NULL OR TRIM(attributes) = '' THEN 1 END) AS missing_attributes,\n",
    "    COUNT(CASE WHEN categories IS NULL OR TRIM(categories) = '' THEN 1 END) AS missing_categories,\n",
    "    COUNT(CASE WHEN hours_json IS NULL THEN 1 END) AS missing_hours_json\n",
    "  FROM yelp_business_bronze\n",
    ") t\n",
    "LATERAL VIEW STACK(12,\n",
    "  'address', missing_address,\n",
    "  'city', missing_city,\n",
    "  'state', missing_state,\n",
    "  'postal_code', missing_postal_code,\n",
    "  'latitude', missing_latitude,\n",
    "  'longitude', missing_longitude,\n",
    "  'stars', missing_stars,\n",
    "  'review_count', missing_review_count,\n",
    "  'is_open', missing_is_open,\n",
    "  'attributes', missing_attributes,\n",
    "  'categories', missing_categories,\n",
    "  'hours_json', missing_hours_json\n",
    ") AS column_name, missing_count;\n",
    "\n",
    "SELECT * FROM vw_business_missing_values;"
   ]
  },
  {
   "cell_type": "markdown",
   "metadata": {
    "application/vnd.databricks.v1+cell": {
     "cellMetadata": {},
     "inputWidgets": {},
     "nuid": "24620141-da7b-4e39-8375-7888137dbb34",
     "showTitle": false,
     "tableResultSettingsMap": {},
     "title": ""
    }
   },
   "source": [
    "##### Checkin"
   ]
  },
  {
   "cell_type": "code",
   "execution_count": 0,
   "metadata": {
    "application/vnd.databricks.v1+cell": {
     "cellMetadata": {
      "byteLimit": 2048000,
      "implicitDf": true,
      "rowLimit": 10000
     },
     "inputWidgets": {},
     "nuid": "7736f5c5-cc0f-4eee-ac3b-ad6f2a140307",
     "showTitle": false,
     "tableResultSettingsMap": {},
     "title": ""
    }
   },
   "outputs": [],
   "source": [
    "%sql\n",
    "CREATE OR REPLACE TEMP VIEW vw_checkin_missing_values AS\n",
    "SELECT column_name, missing_count\n",
    "FROM (\n",
    "  SELECT\n",
    "    COUNT(CASE WHEN business_id IS NULL OR TRIM(business_id) = '' THEN 1 END) AS missing_business_id,\n",
    "    COUNT(CASE WHEN date IS NULL OR TRIM(date) = '' THEN 1 END) AS missing_date\n",
    "  FROM yelp_checkin_bronze\n",
    ") t\n",
    "LATERAL VIEW STACK(2,\n",
    "  'business_id', missing_business_id,\n",
    "  'date', missing_date\n",
    ") AS column_name, missing_count;\n",
    "\n",
    "SELECT * FROM vw_checkin_missing_values;"
   ]
  },
  {
   "cell_type": "markdown",
   "metadata": {
    "application/vnd.databricks.v1+cell": {
     "cellMetadata": {},
     "inputWidgets": {},
     "nuid": "e776a0c5-c3b9-43b6-a421-77e253435934",
     "showTitle": false,
     "tableResultSettingsMap": {},
     "title": ""
    }
   },
   "source": [
    "##### Review"
   ]
  },
  {
   "cell_type": "code",
   "execution_count": 0,
   "metadata": {
    "application/vnd.databricks.v1+cell": {
     "cellMetadata": {
      "byteLimit": 2048000,
      "implicitDf": true,
      "rowLimit": 10000
     },
     "inputWidgets": {},
     "nuid": "696d09b9-19ff-4bda-b8fe-88f2ccb37fe5",
     "showTitle": false,
     "tableResultSettingsMap": {},
     "title": ""
    }
   },
   "outputs": [],
   "source": [
    "%sql\n",
    "CREATE OR REPLACE TEMP VIEW vw_review_missing_values AS\n",
    "SELECT column_name, missing_count\n",
    "FROM (\n",
    "  SELECT\n",
    "    COUNT(CASE WHEN review_id IS NULL OR TRIM(review_id) = '' THEN 1 END) AS missing_review_id,\n",
    "    COUNT(CASE WHEN user_id IS NULL OR TRIM(user_id) = '' THEN 1 END) AS missing_user_id,\n",
    "    COUNT(CASE WHEN business_id IS NULL OR TRIM(business_id) = '' THEN 1 END) AS missing_business_id,\n",
    "    COUNT(CASE WHEN stars IS NULL THEN 1 END) AS missing_stars,\n",
    "    COUNT(CASE WHEN useful IS NULL THEN 1 END) AS missing_useful,\n",
    "    COUNT(CASE WHEN funny IS NULL THEN 1 END) AS missing_funny,\n",
    "    COUNT(CASE WHEN cool IS NULL THEN 1 END) AS missing_cool,\n",
    "    COUNT(CASE WHEN text IS NULL OR TRIM(text) = '' THEN 1 END) AS missing_text,\n",
    "    COUNT(CASE WHEN date IS NULL THEN 1 END) AS missing_date\n",
    "  FROM yelp_review_bronze\n",
    ") t\n",
    "LATERAL VIEW STACK(9,\n",
    "  'address', missing_review_id,\n",
    "  'city', missing_user_id,\n",
    "  'state', missing_business_id,\n",
    "  'postal_code', missing_stars,\n",
    "  'latitude', missing_useful,\n",
    "  'longitude', missing_funny,\n",
    "  'stars', missing_cool,\n",
    "  'review_count', missing_text,\n",
    "  'is_open', missing_date\n",
    ") AS column_name, missing_count;\n",
    "\n",
    "SELECT * FROM vw_review_missing_values;"
   ]
  },
  {
   "cell_type": "markdown",
   "metadata": {
    "application/vnd.databricks.v1+cell": {
     "cellMetadata": {},
     "inputWidgets": {},
     "nuid": "531a3bb5-7d8d-4b69-b30a-263bd8e8466f",
     "showTitle": false,
     "tableResultSettingsMap": {},
     "title": ""
    }
   },
   "source": [
    "##### Tip"
   ]
  },
  {
   "cell_type": "code",
   "execution_count": 0,
   "metadata": {
    "application/vnd.databricks.v1+cell": {
     "cellMetadata": {
      "byteLimit": 2048000,
      "implicitDf": true,
      "rowLimit": 10000
     },
     "inputWidgets": {},
     "nuid": "36adeb62-66a3-4de0-a842-bd9f9b64cbd8",
     "showTitle": false,
     "tableResultSettingsMap": {},
     "title": ""
    }
   },
   "outputs": [],
   "source": [
    "%sql\n",
    "CREATE OR REPLACE TEMP VIEW vw_tip_missing_values AS\n",
    "SELECT column_name, missing_count\n",
    "FROM (\n",
    "  SELECT\n",
    "    COUNT(CASE WHEN user_id IS NULL OR TRIM(user_id) = '' THEN 1 END) AS missing_user_id,\n",
    "    COUNT(CASE WHEN business_id IS NULL OR TRIM(business_id) = '' THEN 1 END) AS missing_business_id,\n",
    "    COUNT(CASE WHEN text IS NULL OR TRIM(text) = '' THEN 1 END) AS missing_text,\n",
    "    COUNT(CASE WHEN date IS NULL THEN 1 END) AS missing_date,\n",
    "    COUNT(CASE WHEN compliment_count IS NULL THEN 1 END) AS missing_compliment_count\n",
    "  FROM yelp_tip_bronze\n",
    ") t\n",
    "LATERAL VIEW STACK(5,\n",
    "  'user_id', missing_user_id,\n",
    "  'business_id', missing_business_id,\n",
    "  'text', missing_text,\n",
    "  'date', missing_date,\n",
    "  'compliment_count', missing_compliment_count\n",
    ") AS column_name, missing_count;\n",
    "\n",
    "SELECT * FROM vw_tip_missing_values;"
   ]
  },
  {
   "cell_type": "markdown",
   "metadata": {
    "application/vnd.databricks.v1+cell": {
     "cellMetadata": {},
     "inputWidgets": {},
     "nuid": "1422902c-3011-4f77-8c71-00dd0c343e6f",
     "showTitle": false,
     "tableResultSettingsMap": {},
     "title": ""
    }
   },
   "source": [
    "##### User"
   ]
  },
  {
   "cell_type": "code",
   "execution_count": 0,
   "metadata": {
    "application/vnd.databricks.v1+cell": {
     "cellMetadata": {
      "byteLimit": 2048000,
      "implicitDf": true,
      "rowLimit": 10000
     },
     "inputWidgets": {},
     "nuid": "b79ee127-2e9d-4c8b-9c52-620282ee941b",
     "showTitle": false,
     "tableResultSettingsMap": {},
     "title": ""
    }
   },
   "outputs": [],
   "source": [
    "%sql\n",
    "CREATE OR REPLACE TEMP VIEW vw_user_missing_values AS\n",
    "SELECT column_name, missing_count\n",
    "FROM (\n",
    "  SELECT\n",
    "    COUNT(CASE WHEN user_id IS NULL OR TRIM(user_id) = '' THEN 1 END) AS missing_user_id,\n",
    "    COUNT(CASE WHEN name IS NULL OR TRIM(name) = '' THEN 1 END) AS missing_name,\n",
    "    COUNT(CASE WHEN review_count IS NULL THEN 1 END) AS missing_review_count,\n",
    "    COUNT(CASE WHEN yelping_since IS NULL THEN 1 END) AS missing_yelping_since,\n",
    "    COUNT(CASE WHEN useful IS NULL THEN 1 END) AS missing_useful,\n",
    "    COUNT(CASE WHEN funny IS NULL THEN 1 END) AS missing_funny,\n",
    "    COUNT(CASE WHEN cool IS NULL THEN 1 END) AS missing_cool,\n",
    "    COUNT(CASE WHEN elite IS NULL OR TRIM(elite) = '' THEN 1 END) AS missing_elite,\n",
    "    COUNT(CASE WHEN friends IS NULL OR TRIM(friends) = '' THEN 1 END) AS missing_friends,\n",
    "    COUNT(CASE WHEN fans IS NULL THEN 1 END) AS missing_fans,\n",
    "    COUNT(CASE WHEN average_stars IS NULL THEN 1 END) AS missing_average_stars,\n",
    "    COUNT(CASE WHEN compliment_hot IS NULL THEN 1 END) AS missing_compliment_hot,\n",
    "    COUNT(CASE WHEN compliment_more IS NULL THEN 1 END) AS missing_compliment_more,\n",
    "    COUNT(CASE WHEN compliment_profile IS NULL THEN 1 END) AS missing_compliment_profile,\n",
    "    COUNT(CASE WHEN compliment_cute IS NULL THEN 1 END) AS missing_compliment_cute,\n",
    "    COUNT(CASE WHEN compliment_list IS NULL THEN 1 END) AS missing_compliment_list,\n",
    "    COUNT(CASE WHEN compliment_note IS NULL THEN 1 END) AS missing_compliment_note,\n",
    "    COUNT(CASE WHEN compliment_plain IS NULL THEN 1 END) AS missing_compliment_plain,\n",
    "    COUNT(CASE WHEN compliment_cool IS NULL THEN 1 END) AS missing_compliment_cool,\n",
    "    COUNT(CASE WHEN compliment_funny IS NULL THEN 1 END) AS missing_compliment_funny,\n",
    "    COUNT(CASE WHEN compliment_writer IS NULL THEN 1 END) AS missing_compliment_writer,\n",
    "    COUNT(CASE WHEN compliment_photos IS NULL THEN 1 END) AS missing_compliment_photos\n",
    "  FROM yelp_user_bronze\n",
    ") t\n",
    "LATERAL VIEW STACK(22,\n",
    "  'user_id', missing_user_id,\n",
    "  'name', missing_name,\n",
    "  'review_count', missing_review_count,\n",
    "  'yelping_since', missing_yelping_since,\n",
    "  'useful', missing_useful,\n",
    "  'funny', missing_funny,\n",
    "  'cool', missing_cool,\n",
    "  'elite', missing_elite,\n",
    "  'friends', missing_friends,\n",
    "  'fans', missing_fans,\n",
    "  'average_stars', missing_average_stars,\n",
    "  'compliment_hot', missing_compliment_hot,\n",
    "  'compliment_more', missing_compliment_more,\n",
    "  'compliment_profile', missing_compliment_profile,\n",
    "  'compliment_cute', missing_compliment_cute,\n",
    "  'compliment_list', missing_compliment_list,\n",
    "  'compliment_note', missing_compliment_note,\n",
    "  'compliment_plain', missing_compliment_plain,\n",
    "  'compliment_cool', missing_compliment_cool,\n",
    "  'compliment_funny', missing_compliment_funny,\n",
    "  'compliment_writer', missing_compliment_writer,\n",
    "  'compliment_photos', missing_compliment_photos\n",
    ") AS column_name, missing_count;\n",
    "\n",
    "SELECT * FROM vw_user_missing_values;"
   ]
  },
  {
   "cell_type": "markdown",
   "metadata": {
    "application/vnd.databricks.v1+cell": {
     "cellMetadata": {},
     "inputWidgets": {},
     "nuid": "0b31f656-76ba-41a8-bf87-6bfee9eb6c7e",
     "showTitle": false,
     "tableResultSettingsMap": {},
     "title": ""
    }
   },
   "source": [
    "#### 3.1.2. Identify duplicate values"
   ]
  },
  {
   "cell_type": "markdown",
   "metadata": {
    "application/vnd.databricks.v1+cell": {
     "cellMetadata": {},
     "inputWidgets": {},
     "nuid": "57ba5019-cf18-4c2a-853e-37f96023ab74",
     "showTitle": false,
     "tableResultSettingsMap": {},
     "title": ""
    }
   },
   "source": [
    "##### Business"
   ]
  },
  {
   "cell_type": "code",
   "execution_count": 0,
   "metadata": {
    "application/vnd.databricks.v1+cell": {
     "cellMetadata": {
      "byteLimit": 2048000,
      "implicitDf": true,
      "rowLimit": 10000
     },
     "inputWidgets": {},
     "nuid": "49ebc310-2b92-4813-ab7d-0169850c0bfd",
     "showTitle": false,
     "tableResultSettingsMap": {},
     "title": ""
    }
   },
   "outputs": [],
   "source": [
    "%sql\n",
    "SELECT\n",
    "  business_id,\n",
    "  name,\n",
    "  address,\n",
    "  city,\n",
    "  state,\n",
    "  postal_code,\n",
    "  latitude,\n",
    "  longitude,\n",
    "  stars,\n",
    "  review_count,\n",
    "  is_open,\n",
    "  attributes,\n",
    "  categories,\n",
    "  hours_json,\n",
    "  COUNT(*) count_duplicated\n",
    "FROM yelp_business_bronze\n",
    "GROUP BY\n",
    "  business_id,\n",
    "  name,\n",
    "  address,\n",
    "  city,\n",
    "  state,\n",
    "  postal_code,\n",
    "  latitude,\n",
    "  longitude,\n",
    "  stars,\n",
    "  review_count,\n",
    "  is_open,\n",
    "  attributes,\n",
    "  categories,\n",
    "  hours_json\n",
    "HAVING COUNT(*) > 1;"
   ]
  },
  {
   "cell_type": "markdown",
   "metadata": {
    "application/vnd.databricks.v1+cell": {
     "cellMetadata": {},
     "inputWidgets": {},
     "nuid": "8d8648fe-5555-4fa3-a4bf-042b55e47eb5",
     "showTitle": false,
     "tableResultSettingsMap": {},
     "title": ""
    }
   },
   "source": [
    "##### Checkin"
   ]
  },
  {
   "cell_type": "code",
   "execution_count": 0,
   "metadata": {
    "application/vnd.databricks.v1+cell": {
     "cellMetadata": {
      "byteLimit": 2048000,
      "implicitDf": true,
      "rowLimit": 10000
     },
     "inputWidgets": {},
     "nuid": "d5599e61-6dd5-4a8d-8ce3-77dc60aed157",
     "showTitle": false,
     "tableResultSettingsMap": {},
     "title": ""
    }
   },
   "outputs": [],
   "source": [
    "%sql\n",
    "SELECT\n",
    "  business_id,\n",
    "  date,\n",
    "  COUNT(*) count_duplicated\n",
    "FROM yelp_checkin_bronze\n",
    "GROUP BY\n",
    "  business_id,\n",
    "  date\n",
    "HAVING COUNT(*) > 1;"
   ]
  },
  {
   "cell_type": "markdown",
   "metadata": {
    "application/vnd.databricks.v1+cell": {
     "cellMetadata": {},
     "inputWidgets": {},
     "nuid": "16ac0dc4-938e-4753-b60a-0683293b4d46",
     "showTitle": false,
     "tableResultSettingsMap": {},
     "title": ""
    }
   },
   "source": [
    "##### Review"
   ]
  },
  {
   "cell_type": "code",
   "execution_count": 0,
   "metadata": {
    "application/vnd.databricks.v1+cell": {
     "cellMetadata": {
      "byteLimit": 2048000,
      "implicitDf": true,
      "rowLimit": 10000
     },
     "inputWidgets": {},
     "nuid": "df2ae589-207b-4e75-84dc-34094a1c15d7",
     "showTitle": false,
     "tableResultSettingsMap": {},
     "title": ""
    }
   },
   "outputs": [],
   "source": [
    "%sql\n",
    "SELECT\n",
    "  review_id,\n",
    "  user_id,\n",
    "  business_id,\n",
    "  stars,\n",
    "  useful,\n",
    "  funny,\n",
    "  cool,\n",
    "  text,\n",
    "  date,\n",
    "  COUNT(*) count_duplicated\n",
    "FROM yelp_review_bronze\n",
    "GROUP BY\n",
    "  review_id,\n",
    "  user_id,\n",
    "  business_id,\n",
    "  stars,\n",
    "  useful,\n",
    "  funny,\n",
    "  cool,\n",
    "  text,\n",
    "  date\n",
    "HAVING COUNT(*) > 1;"
   ]
  },
  {
   "cell_type": "markdown",
   "metadata": {
    "application/vnd.databricks.v1+cell": {
     "cellMetadata": {},
     "inputWidgets": {},
     "nuid": "b20225b1-3498-4cd4-9b8b-f5eea133b514",
     "showTitle": false,
     "tableResultSettingsMap": {},
     "title": ""
    }
   },
   "source": [
    "##### Tip"
   ]
  },
  {
   "cell_type": "code",
   "execution_count": 0,
   "metadata": {
    "application/vnd.databricks.v1+cell": {
     "cellMetadata": {
      "byteLimit": 2048000,
      "implicitDf": true,
      "rowLimit": 10000
     },
     "inputWidgets": {},
     "nuid": "ba222ae4-fa0e-4655-992a-4514bd621b5c",
     "showTitle": false,
     "tableResultSettingsMap": {},
     "title": ""
    }
   },
   "outputs": [],
   "source": [
    "%sql\n",
    "SELECT\n",
    "  user_id,\n",
    "  business_id,\n",
    "  text,\n",
    "  date,\n",
    "  compliment_count,\n",
    "  COUNT(*) count_duplicated\n",
    "FROM yelp_tip_bronze\n",
    "GROUP BY\n",
    "  user_id,\n",
    "  business_id,\n",
    "  text,\n",
    "  date,\n",
    "  compliment_count\n",
    "HAVING COUNT(*) > 1;"
   ]
  },
  {
   "cell_type": "markdown",
   "metadata": {
    "application/vnd.databricks.v1+cell": {
     "cellMetadata": {},
     "inputWidgets": {},
     "nuid": "980073f6-9600-4ec1-b795-03f67ece07c3",
     "showTitle": false,
     "tableResultSettingsMap": {},
     "title": ""
    }
   },
   "source": [
    "##### User"
   ]
  },
  {
   "cell_type": "code",
   "execution_count": 0,
   "metadata": {
    "application/vnd.databricks.v1+cell": {
     "cellMetadata": {
      "byteLimit": 2048000,
      "implicitDf": true,
      "rowLimit": 10000
     },
     "inputWidgets": {},
     "nuid": "2af97866-c64b-469c-88fa-cad041ca220e",
     "showTitle": false,
     "tableResultSettingsMap": {},
     "title": ""
    }
   },
   "outputs": [],
   "source": [
    "%sql\n",
    "SELECT\n",
    "  user_id,\n",
    "  name,\n",
    "  review_count,\n",
    "  yelping_since,\n",
    "  useful,\n",
    "  funny,\n",
    "  cool,\n",
    "  elite,\n",
    "  friends,\n",
    "  fans,\n",
    "  average_stars,\n",
    "  compliment_hot,\n",
    "  compliment_more,\n",
    "  compliment_profile,\n",
    "  compliment_cute,\n",
    "  compliment_list,\n",
    "  compliment_note,\n",
    "  compliment_plain,\n",
    "  compliment_cool,\n",
    "  compliment_funny,\n",
    "  compliment_writer,\n",
    "  compliment_photos,\n",
    "  COUNT(*) count_duplicated\n",
    "FROM yelp_user_bronze\n",
    "GROUP BY\n",
    "  user_id,\n",
    "  name,\n",
    "  review_count,\n",
    "  yelping_since,\n",
    "  useful,\n",
    "  funny,\n",
    "  cool,\n",
    "  elite,\n",
    "  friends,\n",
    "  fans,\n",
    "  average_stars,\n",
    "  compliment_hot,\n",
    "  compliment_more,\n",
    "  compliment_profile,\n",
    "  compliment_cute,\n",
    "  compliment_list,\n",
    "  compliment_note,\n",
    "  compliment_plain,\n",
    "  compliment_cool,\n",
    "  compliment_funny,\n",
    "  compliment_writer,\n",
    "  compliment_photos\n",
    "HAVING COUNT(*) > 1;"
   ]
  },
  {
   "cell_type": "markdown",
   "metadata": {
    "application/vnd.databricks.v1+cell": {
     "cellMetadata": {},
     "inputWidgets": {},
     "nuid": "a80fb0f0-7ef8-4388-a24b-89056ae82c6a",
     "showTitle": false,
     "tableResultSettingsMap": {},
     "title": ""
    }
   },
   "source": [
    "#### 3.1.3. Validate data consistency\n",
    "\n",
    "To carry out this step I am using the column **_rescued_data**, which stores values that do not match with the schema."
   ]
  },
  {
   "cell_type": "markdown",
   "metadata": {
    "application/vnd.databricks.v1+cell": {
     "cellMetadata": {},
     "inputWidgets": {},
     "nuid": "6cc790e4-5b7a-4001-8bbf-a7755dc2e38a",
     "showTitle": false,
     "tableResultSettingsMap": {},
     "title": ""
    }
   },
   "source": [
    "##### Business"
   ]
  },
  {
   "cell_type": "code",
   "execution_count": 0,
   "metadata": {
    "application/vnd.databricks.v1+cell": {
     "cellMetadata": {
      "byteLimit": 2048000,
      "implicitDf": true,
      "rowLimit": 10000
     },
     "inputWidgets": {},
     "nuid": "10a0f495-9fe8-401e-bd43-c0e93695653b",
     "showTitle": false,
     "tableResultSettingsMap": {},
     "title": ""
    }
   },
   "outputs": [],
   "source": [
    "%sql\n",
    "SELECT * FROM yelp_business_bronze WHERE _rescued_data IS NOT NULL;"
   ]
  },
  {
   "cell_type": "markdown",
   "metadata": {
    "application/vnd.databricks.v1+cell": {
     "cellMetadata": {},
     "inputWidgets": {},
     "nuid": "23f42931-5193-4d50-a373-713c88c4b42c",
     "showTitle": false,
     "tableResultSettingsMap": {},
     "title": ""
    }
   },
   "source": [
    "##### Checkin"
   ]
  },
  {
   "cell_type": "code",
   "execution_count": 0,
   "metadata": {
    "application/vnd.databricks.v1+cell": {
     "cellMetadata": {
      "byteLimit": 2048000,
      "implicitDf": true,
      "rowLimit": 10000
     },
     "inputWidgets": {},
     "nuid": "826d9969-ad77-4a6a-895e-356701eec300",
     "showTitle": false,
     "tableResultSettingsMap": {},
     "title": ""
    }
   },
   "outputs": [],
   "source": [
    "%sql\n",
    "SELECT * FROM yelp_checkin_bronze WHERE _rescued_data IS NOT NULL;"
   ]
  },
  {
   "cell_type": "markdown",
   "metadata": {
    "application/vnd.databricks.v1+cell": {
     "cellMetadata": {},
     "inputWidgets": {},
     "nuid": "020af66a-6600-47fc-9cb4-daa41ad36d7d",
     "showTitle": false,
     "tableResultSettingsMap": {},
     "title": ""
    }
   },
   "source": [
    "##### Review"
   ]
  },
  {
   "cell_type": "code",
   "execution_count": 0,
   "metadata": {
    "application/vnd.databricks.v1+cell": {
     "cellMetadata": {
      "byteLimit": 2048000,
      "implicitDf": true,
      "rowLimit": 10000
     },
     "inputWidgets": {},
     "nuid": "25af784e-b941-408f-b8be-408174543300",
     "showTitle": false,
     "tableResultSettingsMap": {},
     "title": ""
    }
   },
   "outputs": [],
   "source": [
    "%sql\n",
    "SELECT * FROM yelp_review_bronze WHERE _rescued_data IS NOT NULL;"
   ]
  },
  {
   "cell_type": "markdown",
   "metadata": {
    "application/vnd.databricks.v1+cell": {
     "cellMetadata": {},
     "inputWidgets": {},
     "nuid": "cb5d13de-0ed0-4196-8293-4dc35586e726",
     "showTitle": false,
     "tableResultSettingsMap": {},
     "title": ""
    }
   },
   "source": [
    "##### Tip"
   ]
  },
  {
   "cell_type": "code",
   "execution_count": 0,
   "metadata": {
    "application/vnd.databricks.v1+cell": {
     "cellMetadata": {
      "byteLimit": 2048000,
      "implicitDf": true,
      "rowLimit": 10000
     },
     "inputWidgets": {},
     "nuid": "6d9d8404-29fb-44f8-8d42-9dcfdb4f0ce4",
     "showTitle": false,
     "tableResultSettingsMap": {},
     "title": ""
    }
   },
   "outputs": [],
   "source": [
    "%sql\n",
    "SELECT * FROM yelp_tip_bronze WHERE _rescued_data IS NOT NULL;"
   ]
  },
  {
   "cell_type": "markdown",
   "metadata": {
    "application/vnd.databricks.v1+cell": {
     "cellMetadata": {},
     "inputWidgets": {},
     "nuid": "d32ec33f-dce7-409f-914d-b4fc074759bb",
     "showTitle": false,
     "tableResultSettingsMap": {},
     "title": ""
    }
   },
   "source": [
    "##### User"
   ]
  },
  {
   "cell_type": "code",
   "execution_count": 0,
   "metadata": {
    "application/vnd.databricks.v1+cell": {
     "cellMetadata": {
      "byteLimit": 2048000,
      "implicitDf": true,
      "rowLimit": 10000
     },
     "inputWidgets": {},
     "nuid": "e118fd2f-293b-436f-ad09-1a02e9dcf618",
     "showTitle": false,
     "tableResultSettingsMap": {},
     "title": ""
    }
   },
   "outputs": [],
   "source": [
    "%sql\n",
    "SELECT * FROM yelp_user_bronze WHERE _rescued_data IS NOT NULL;"
   ]
  },
  {
   "cell_type": "markdown",
   "metadata": {
    "application/vnd.databricks.v1+cell": {
     "cellMetadata": {},
     "inputWidgets": {},
     "nuid": "a104c57e-3f9f-4d37-a5de-f72421eabd82",
     "showTitle": false,
     "tableResultSettingsMap": {},
     "title": ""
    }
   },
   "source": [
    "### 3.2. Cleaning"
   ]
  },
  {
   "cell_type": "markdown",
   "metadata": {
    "application/vnd.databricks.v1+cell": {
     "cellMetadata": {},
     "inputWidgets": {},
     "nuid": "42f9dbb8-8810-41e7-acfa-34851bb5176b",
     "showTitle": false,
     "tableResultSettingsMap": {},
     "title": ""
    }
   },
   "source": [
    "#### 3.2.1. Dealing with missing values\n",
    "\n",
    "There are several strategies to deal with missing values, but for the purpose of this project I have the following options:\n",
    "\n",
    "* Remove missing values if there are few.\n",
    "* Remove columns if there are a lot or it is too complex to fill.\n",
    "* Fill with median for numeric features."
   ]
  },
  {
   "cell_type": "markdown",
   "metadata": {
    "application/vnd.databricks.v1+cell": {
     "cellMetadata": {},
     "inputWidgets": {},
     "nuid": "d42e5803-6b6c-427c-bbe4-f794754f25da",
     "showTitle": false,
     "tableResultSettingsMap": {},
     "title": ""
    }
   },
   "source": [
    "##### Business\n",
    "\n",
    "Strategy:\n",
    "\n",
    "* **address**: remove rows which do not have this feature.\n",
    "* **attributes**: remove this feature, due to its complexity.\n",
    "* **hours_json**: remove rows which do not have this feature."
   ]
  },
  {
   "cell_type": "code",
   "execution_count": 0,
   "metadata": {
    "application/vnd.databricks.v1+cell": {
     "cellMetadata": {
      "byteLimit": 2048000,
      "implicitDf": true,
      "rowLimit": 10000
     },
     "inputWidgets": {},
     "nuid": "b01f0fc7-13ff-4ee8-821d-71d0dc8c512d",
     "showTitle": false,
     "tableResultSettingsMap": {},
     "title": ""
    }
   },
   "outputs": [],
   "source": [
    "%sql\n",
    "SELECT * FROM vw_business_missing_values WHERE missing_count > 0;"
   ]
  },
  {
   "cell_type": "code",
   "execution_count": 0,
   "metadata": {
    "application/vnd.databricks.v1+cell": {
     "cellMetadata": {
      "byteLimit": 2048000,
      "implicitDf": true,
      "rowLimit": 10000
     },
     "inputWidgets": {},
     "nuid": "16fd9a78-1d7d-4cd2-b518-e10faf7e2c32",
     "showTitle": false,
     "tableResultSettingsMap": {},
     "title": ""
    }
   },
   "outputs": [],
   "source": [
    "%sql\n",
    "CREATE OR REPLACE TEMP VIEW vw_business_no_missing_values AS\n",
    "SELECT \n",
    "  *\n",
    "  EXCEPT(attributes)\n",
    "FROM yelp_business_bronze \n",
    "WHERE (address IS NOT NULL AND TRIM(address) <> '')\n",
    "AND hours_json IS NOT NULL;\n",
    "\n",
    "SELECT COUNT(*) FROM vw_business_no_missing_values;"
   ]
  },
  {
   "cell_type": "markdown",
   "metadata": {
    "application/vnd.databricks.v1+cell": {
     "cellMetadata": {},
     "inputWidgets": {},
     "nuid": "18b6908f-0ca1-4507-985f-ac6f61d57e20",
     "showTitle": false,
     "tableResultSettingsMap": {},
     "title": ""
    }
   },
   "source": [
    "##### User"
   ]
  },
  {
   "cell_type": "code",
   "execution_count": 0,
   "metadata": {
    "application/vnd.databricks.v1+cell": {
     "cellMetadata": {
      "byteLimit": 2048000,
      "implicitDf": true,
      "rowLimit": 10000
     },
     "inputWidgets": {},
     "nuid": "14a0860d-d9c1-4f64-b039-b441e4c0f267",
     "showTitle": false,
     "tableResultSettingsMap": {},
     "title": ""
    }
   },
   "outputs": [],
   "source": [
    "%sql\n",
    "SELECT * FROM vw_user_missing_values WHERE missing_count > 0;"
   ]
  },
  {
   "cell_type": "code",
   "execution_count": 0,
   "metadata": {
    "application/vnd.databricks.v1+cell": {
     "cellMetadata": {
      "byteLimit": 2048000,
      "implicitDf": true,
      "rowLimit": 10000
     },
     "inputWidgets": {},
     "nuid": "b8ff4cbb-1f4f-4afa-b094-7e7e0d85ac20",
     "showTitle": false,
     "tableResultSettingsMap": {},
     "title": ""
    }
   },
   "outputs": [],
   "source": [
    "%sql\n",
    "CREATE OR REPLACE TEMP VIEW vw_user_no_missing_values AS\n",
    "SELECT \n",
    "  *\n",
    "  EXCEPT(elite)\n",
    "FROM yelp_user_bronze;\n",
    "\n",
    "SELECT COUNT(*) FROM vw_user_no_missing_values;"
   ]
  },
  {
   "cell_type": "code",
   "execution_count": 0,
   "metadata": {
    "application/vnd.databricks.v1+cell": {
     "cellMetadata": {
      "byteLimit": 2048000,
      "implicitDf": true,
      "rowLimit": 10000
     },
     "inputWidgets": {},
     "nuid": "3068cd1d-1179-45cd-8081-e6186e262b78",
     "showTitle": false,
     "tableResultSettingsMap": {
      "0": {
       "dataGridStateBlob": "{\"version\":1,\"tableState\":{\"columnPinning\":{\"left\":[\"#row_number#\"],\"right\":[]},\"columnSizing\":{},\"columnVisibility\":{}},\"settings\":{\"columns\":{}},\"syncTimestamp\":1754359741592}",
       "filterBlob": null,
       "queryPlanFiltersBlob": null,
       "tableResultIndex": 0
      }
     },
     "title": ""
    }
   },
   "outputs": [],
   "source": [
    "%sql\n",
    "SELECT * FROM vw_user_no_missing_values;"
   ]
  },
  {
   "cell_type": "markdown",
   "metadata": {
    "application/vnd.databricks.v1+cell": {
     "cellMetadata": {},
     "inputWidgets": {},
     "nuid": "5e0ea7c8-3f94-4a3a-9d9c-624fed11fe94",
     "showTitle": false,
     "tableResultSettingsMap": {},
     "title": ""
    }
   },
   "source": [
    "### 3.3. Load"
   ]
  },
  {
   "cell_type": "markdown",
   "metadata": {
    "application/vnd.databricks.v1+cell": {
     "cellMetadata": {},
     "inputWidgets": {},
     "nuid": "56d7a9de-a3f2-44f9-9c16-501c1c720018",
     "showTitle": false,
     "tableResultSettingsMap": {},
     "title": ""
    }
   },
   "source": [
    "##### Business"
   ]
  },
  {
   "cell_type": "code",
   "execution_count": 0,
   "metadata": {
    "application/vnd.databricks.v1+cell": {
     "cellMetadata": {
      "byteLimit": 2048000,
      "implicitDf": true,
      "rowLimit": 10000
     },
     "inputWidgets": {},
     "nuid": "54d8068d-105b-4e08-b25a-1560c1a2a0ab",
     "showTitle": false,
     "tableResultSettingsMap": {},
     "title": ""
    }
   },
   "outputs": [],
   "source": [
    "%sql\n",
    "DROP TABLE IF EXISTS yelp_business_silver;\n",
    "\n",
    "-- Create table\n",
    "CREATE TABLE IF NOT EXISTS yelp_business_silver\n",
    "AS\n",
    "SELECT\n",
    "  business_id,\n",
    "  UPPER(TRIM(name)) AS name,\n",
    "  UPPER(TRIM(address)) AS address,\n",
    "  UPPER(TRIM(city)) AS city,\n",
    "  UPPER(TRIM(state)) AS state,\n",
    "  UPPER(TRIM(postal_code)) AS postal_code,\n",
    "  latitude,\n",
    "  longitude,\n",
    "  stars,\n",
    "  review_count,\n",
    "  is_open,\n",
    "  UPPER(TRIM(categories)) AS categories,\n",
    "  file_modification_time,\n",
    "  file_name\n",
    "FROM vw_business_no_missing_values;\n",
    "\n",
    "-- Preview data\n",
    "SELECT * FROM yelp_business_silver LIMIT 5;"
   ]
  },
  {
   "cell_type": "markdown",
   "metadata": {
    "application/vnd.databricks.v1+cell": {
     "cellMetadata": {},
     "inputWidgets": {},
     "nuid": "32b6be02-e1ec-475b-a099-dd0bab762834",
     "showTitle": false,
     "tableResultSettingsMap": {},
     "title": ""
    }
   },
   "source": [
    "##### Checkin"
   ]
  },
  {
   "cell_type": "code",
   "execution_count": 0,
   "metadata": {
    "application/vnd.databricks.v1+cell": {
     "cellMetadata": {
      "byteLimit": 2048000,
      "implicitDf": true,
      "rowLimit": 10000
     },
     "inputWidgets": {},
     "nuid": "c71dda6b-f450-4cc8-977b-087a4ce09c1e",
     "showTitle": false,
     "tableResultSettingsMap": {},
     "title": ""
    }
   },
   "outputs": [],
   "source": [
    "%sql\n",
    "DROP TABLE IF EXISTS yelp_checkin_silver;\n",
    "\n",
    "-- Create table\n",
    "CREATE TABLE IF NOT EXISTS yelp_checkin_silver\n",
    "AS\n",
    "SELECT\n",
    "  business_id,\n",
    "  date,\n",
    "  file_modification_time,\n",
    "  file_name\n",
    "FROM yelp_checkin_bronze;\n",
    "\n",
    "-- Preview data\n",
    "SELECT * FROM yelp_checkin_silver LIMIT 5;"
   ]
  },
  {
   "cell_type": "markdown",
   "metadata": {
    "application/vnd.databricks.v1+cell": {
     "cellMetadata": {},
     "inputWidgets": {},
     "nuid": "94fb65f1-8d2b-4f1f-93de-79557cb38f65",
     "showTitle": false,
     "tableResultSettingsMap": {},
     "title": ""
    }
   },
   "source": [
    "##### Review"
   ]
  },
  {
   "cell_type": "code",
   "execution_count": 0,
   "metadata": {
    "application/vnd.databricks.v1+cell": {
     "cellMetadata": {
      "byteLimit": 2048000,
      "implicitDf": true,
      "rowLimit": 10000
     },
     "inputWidgets": {},
     "nuid": "3448d20d-7b29-4528-a9ac-67d489a53a9f",
     "showTitle": false,
     "tableResultSettingsMap": {},
     "title": ""
    }
   },
   "outputs": [],
   "source": [
    "%sql\n",
    "DROP TABLE IF EXISTS yelp_review_silver;\n",
    "\n",
    "-- Create table\n",
    "CREATE TABLE IF NOT EXISTS yelp_review_silver\n",
    "AS\n",
    "SELECT\n",
    "  review_id,\n",
    "  user_id,\n",
    "  business_id,\n",
    "  stars,\n",
    "  useful,\n",
    "  funny,\n",
    "  cool,\n",
    "  UPPER(TRIM(text)) AS text,\n",
    "  date,\n",
    "  file_modification_time,\n",
    "  file_name\n",
    "FROM yelp_review_bronze;\n",
    "\n",
    "-- Preview data\n",
    "SELECT * FROM yelp_review_silver LIMIT 5;"
   ]
  },
  {
   "cell_type": "markdown",
   "metadata": {
    "application/vnd.databricks.v1+cell": {
     "cellMetadata": {},
     "inputWidgets": {},
     "nuid": "397316a8-a2e5-444e-b92c-23dff1bf2ca5",
     "showTitle": false,
     "tableResultSettingsMap": {},
     "title": ""
    }
   },
   "source": [
    "##### Tip"
   ]
  },
  {
   "cell_type": "code",
   "execution_count": 0,
   "metadata": {
    "application/vnd.databricks.v1+cell": {
     "cellMetadata": {
      "byteLimit": 2048000,
      "implicitDf": true,
      "rowLimit": 10000
     },
     "inputWidgets": {},
     "nuid": "560f5263-d13e-4231-9f94-1a57dde12b07",
     "showTitle": false,
     "tableResultSettingsMap": {},
     "title": ""
    }
   },
   "outputs": [],
   "source": [
    "%sql\n",
    "DROP TABLE IF EXISTS yelp_tip_silver;\n",
    "\n",
    "-- Create table\n",
    "CREATE TABLE IF NOT EXISTS yelp_tip_silver\n",
    "AS\n",
    "SELECT\n",
    "  user_id,\n",
    "  business_id,\n",
    "  UPPER(TRIM(text)) AS text,\n",
    "  date,\n",
    "  compliment_count,\n",
    "  file_modification_time,\n",
    "  file_name\n",
    "FROM yelp_tip_bronze;\n",
    "\n",
    "-- Preview data\n",
    "SELECT * FROM yelp_tip_silver LIMIT 5;"
   ]
  },
  {
   "cell_type": "markdown",
   "metadata": {
    "application/vnd.databricks.v1+cell": {
     "cellMetadata": {},
     "inputWidgets": {},
     "nuid": "49791a51-2394-4ab9-a439-73149af1464e",
     "showTitle": false,
     "tableResultSettingsMap": {},
     "title": ""
    }
   },
   "source": [
    "##### User"
   ]
  },
  {
   "cell_type": "code",
   "execution_count": 0,
   "metadata": {
    "application/vnd.databricks.v1+cell": {
     "cellMetadata": {
      "byteLimit": 2048000,
      "implicitDf": true,
      "rowLimit": 10000
     },
     "inputWidgets": {},
     "nuid": "69003bf5-d128-49c2-8b8b-fa7684bf14ec",
     "showTitle": false,
     "tableResultSettingsMap": {
      "0": {
       "dataGridStateBlob": "{\"version\":1,\"tableState\":{\"columnPinning\":{\"left\":[\"#row_number#\"],\"right\":[]},\"columnSizing\":{},\"columnVisibility\":{}},\"settings\":{\"columns\":{}},\"syncTimestamp\":1754360070154}",
       "filterBlob": null,
       "queryPlanFiltersBlob": null,
       "tableResultIndex": 0
      }
     },
     "title": ""
    }
   },
   "outputs": [],
   "source": [
    "%sql\n",
    "DROP TABLE IF EXISTS yelp_user_silver;\n",
    "\n",
    "-- Create table\n",
    "CREATE TABLE IF NOT EXISTS yelp_user_silver\n",
    "AS\n",
    "SELECT\n",
    "  user_id,\n",
    "  UPPER(TRIM(name)) AS name,\n",
    "  review_count,\n",
    "  yelping_since,\n",
    "  useful,\n",
    "  funny,\n",
    "  cool,\n",
    "  fans,\n",
    "  average_stars,\n",
    "  compliment_hot,\n",
    "  compliment_more,\n",
    "  compliment_profile,\n",
    "  compliment_cute,\n",
    "  compliment_list,\n",
    "  compliment_note,\n",
    "  compliment_plain,\n",
    "  compliment_cool,\n",
    "  compliment_funny,\n",
    "  compliment_writer,\n",
    "  compliment_photos,\n",
    "  file_modification_time,\n",
    "  file_name\n",
    "FROM vw_user_no_missing_values;\n",
    "\n",
    "-- Preview data\n",
    "SELECT * FROM yelp_user_silver LIMIT 5;"
   ]
  },
  {
   "cell_type": "markdown",
   "metadata": {
    "application/vnd.databricks.v1+cell": {
     "cellMetadata": {},
     "inputWidgets": {},
     "nuid": "191d87cd-a0e9-4d9f-83c7-9d7cbc573d0e",
     "showTitle": false,
     "tableResultSettingsMap": {},
     "title": ""
    }
   },
   "source": [
    "## 4. Remove temp object"
   ]
  },
  {
   "cell_type": "code",
   "execution_count": 0,
   "metadata": {
    "application/vnd.databricks.v1+cell": {
     "cellMetadata": {
      "byteLimit": 2048000,
      "implicitDf": true,
      "rowLimit": 10000
     },
     "inputWidgets": {},
     "nuid": "a8d76ed3-1b71-47f9-a965-80493161c7a2",
     "showTitle": false,
     "tableResultSettingsMap": {},
     "title": ""
    }
   },
   "outputs": [],
   "source": [
    "%sql\n",
    "DROP VIEW vw_business_missing_values;\n",
    "DROP VIEW vw_checkin_missing_values;\n",
    "DROP VIEW vw_review_missing_values;\n",
    "DROP VIEW vw_tip_missing_values;\n",
    "DROP VIEW vw_user_missing_values;"
   ]
  },
  {
   "cell_type": "code",
   "execution_count": 0,
   "metadata": {
    "application/vnd.databricks.v1+cell": {
     "cellMetadata": {},
     "inputWidgets": {},
     "nuid": "d4ec6374-1a19-46a1-83a3-37e88cd043e2",
     "showTitle": false,
     "tableResultSettingsMap": {},
     "title": ""
    }
   },
   "outputs": [],
   "source": []
  }
 ],
 "metadata": {
  "application/vnd.databricks.v1+notebook": {
   "computePreferences": null,
   "dashboards": [],
   "environmentMetadata": {
    "base_environment": "",
    "environment_version": "2"
   },
   "inputWidgetPreferences": null,
   "language": "python",
   "notebookMetadata": {
    "mostRecentlyExecutedCommandWithImplicitDF": {
     "commandId": 7414298542357687,
     "dataframes": [
      "_sqldf"
     ]
    },
    "pythonIndentUnit": 4
   },
   "notebookName": "3_data_ingestion_process_silver_layer",
   "widgets": {}
  },
  "language_info": {
   "name": "python"
  }
 },
 "nbformat": 4,
 "nbformat_minor": 0
}

{
 "cells": [
  {
   "cell_type": "markdown",
   "metadata": {
    "application/vnd.databricks.v1+cell": {
     "cellMetadata": {},
     "inputWidgets": {},
     "nuid": "a738eabe-9605-4757-b2c3-b01cf2216796",
     "showTitle": false,
     "tableResultSettingsMap": {},
     "title": ""
    }
   },
   "source": [
    "# Yelp"
   ]
  },
  {
   "cell_type": "markdown",
   "metadata": {
    "application/vnd.databricks.v1+cell": {
     "cellMetadata": {},
     "inputWidgets": {},
     "nuid": "be4ec0ba-8bec-41ab-93fb-889572c2e7aa",
     "showTitle": false,
     "tableResultSettingsMap": {},
     "title": ""
    }
   },
   "source": [
    "## 1. Introduction\n",
    "\n",
    "The purpose of this notebook is to implement an inital load for BRONZE stage using JSON data."
   ]
  },
  {
   "cell_type": "markdown",
   "metadata": {
    "application/vnd.databricks.v1+cell": {
     "cellMetadata": {},
     "inputWidgets": {},
     "nuid": "a7287a6f-bac5-4b8f-9823-dea9c096699b",
     "showTitle": false,
     "tableResultSettingsMap": {},
     "title": ""
    }
   },
   "source": [
    "## 2. Environment setup"
   ]
  },
  {
   "cell_type": "code",
   "execution_count": 0,
   "metadata": {
    "application/vnd.databricks.v1+cell": {
     "cellMetadata": {
      "byteLimit": 2048000,
      "implicitDf": true,
      "rowLimit": 10000
     },
     "inputWidgets": {},
     "nuid": "6821a567-c578-4d2b-b1e7-da284d49bf54",
     "showTitle": false,
     "tableResultSettingsMap": {},
     "title": ""
    }
   },
   "outputs": [],
   "source": [
    "%sql\n",
    "USE CATALOG training_catalog;"
   ]
  },
  {
   "cell_type": "code",
   "execution_count": 0,
   "metadata": {
    "application/vnd.databricks.v1+cell": {
     "cellMetadata": {
      "byteLimit": 2048000,
      "implicitDf": true,
      "rowLimit": 10000
     },
     "inputWidgets": {},
     "nuid": "d8ecb320-c12f-459c-b802-feb548fdec0a",
     "showTitle": false,
     "tableResultSettingsMap": {},
     "title": ""
    }
   },
   "outputs": [],
   "source": [
    "%sql\n",
    "USE SCHEMA yelp_db;"
   ]
  },
  {
   "cell_type": "code",
   "execution_count": 0,
   "metadata": {
    "application/vnd.databricks.v1+cell": {
     "cellMetadata": {
      "byteLimit": 2048000,
      "implicitDf": true,
      "rowLimit": 10000
     },
     "inputWidgets": {},
     "nuid": "7985694e-4045-4d09-b582-8b00b520e91a",
     "showTitle": false,
     "tableResultSettingsMap": {},
     "title": ""
    }
   },
   "outputs": [],
   "source": [
    "%sql\n",
    "SELECT current_catalog() AS current_catalog, current_schema() AS current_schema;"
   ]
  },
  {
   "cell_type": "markdown",
   "metadata": {
    "application/vnd.databricks.v1+cell": {
     "cellMetadata": {},
     "inputWidgets": {},
     "nuid": "85c6fbbb-72de-4258-a65e-d2e504055d1e",
     "showTitle": false,
     "tableResultSettingsMap": {},
     "title": ""
    }
   },
   "source": [
    "## 3. Batch data ingestion with CTAS\n",
    "\n",
    "This method is to ingest data as a inital load.\n",
    "\n",
    "Steps:\n",
    "\n",
    "1. Create table\n",
    "2. Ingest data"
   ]
  },
  {
   "cell_type": "markdown",
   "metadata": {
    "application/vnd.databricks.v1+cell": {
     "cellMetadata": {},
     "inputWidgets": {},
     "nuid": "5c6c4948-b1e7-4307-ac41-00fe2bf95dc9",
     "showTitle": false,
     "tableResultSettingsMap": {},
     "title": ""
    }
   },
   "source": [
    "### 3.1. Exploring data"
   ]
  },
  {
   "cell_type": "markdown",
   "metadata": {
    "application/vnd.databricks.v1+cell": {
     "cellMetadata": {},
     "inputWidgets": {},
     "nuid": "de404905-a776-4a49-abb2-7e8d7824d793",
     "showTitle": false,
     "tableResultSettingsMap": {},
     "title": ""
    }
   },
   "source": [
    "Exploring files"
   ]
  },
  {
   "cell_type": "code",
   "execution_count": 0,
   "metadata": {
    "application/vnd.databricks.v1+cell": {
     "cellMetadata": {
      "byteLimit": 2048000,
      "implicitDf": true,
      "rowLimit": 10000
     },
     "inputWidgets": {},
     "nuid": "a195ceb4-9f36-47e5-9ea6-c3d25e015737",
     "showTitle": false,
     "tableResultSettingsMap": {},
     "title": ""
    }
   },
   "outputs": [],
   "source": [
    "%sql\n",
    "LIST \"/Volumes/training_catalog/yelp_db/training_files\""
   ]
  },
  {
   "cell_type": "markdown",
   "metadata": {
    "application/vnd.databricks.v1+cell": {
     "cellMetadata": {},
     "inputWidgets": {},
     "nuid": "d6a8a628-fa25-4bd1-adea-367f6d1e3a7a",
     "showTitle": false,
     "tableResultSettingsMap": {},
     "title": ""
    }
   },
   "source": [
    "#### Business"
   ]
  },
  {
   "cell_type": "code",
   "execution_count": 0,
   "metadata": {
    "application/vnd.databricks.v1+cell": {
     "cellMetadata": {
      "byteLimit": 2048000,
      "rowLimit": 10000
     },
     "inputWidgets": {},
     "nuid": "e7c19a0c-9c6c-41eb-bfc0-c5165779b9f0",
     "showTitle": false,
     "tableResultSettingsMap": {
      "0": {
       "dataGridStateBlob": "{\"version\":1,\"tableState\":{\"columnPinning\":{\"left\":[\"#row_number#\"],\"right\":[]},\"columnSizing\":{\"value\":1307},\"columnVisibility\":{}},\"settings\":{\"columns\":{}},\"syncTimestamp\":1753741865071}",
       "filterBlob": null,
       "queryPlanFiltersBlob": null,
       "tableResultIndex": 0
      }
     },
     "title": ""
    }
   },
   "outputs": [],
   "source": [
    "spark.sql(\"SELECT * FROM text.`/Volumes/training_catalog/yelp_db/training_files/*business*` LIMIT 5\").display()"
   ]
  },
  {
   "cell_type": "code",
   "execution_count": 0,
   "metadata": {
    "application/vnd.databricks.v1+cell": {
     "cellMetadata": {
      "byteLimit": 2048000,
      "implicitDf": true,
      "rowLimit": 10000
     },
     "inputWidgets": {},
     "nuid": "cc7f7ffd-5f58-46da-a5f7-bf7e8f91cd8a",
     "showTitle": false,
     "tableResultSettingsMap": {
      "0": {
       "dataGridStateBlob": "{\"version\":1,\"tableState\":{\"columnPinning\":{\"left\":[\"#row_number#\"],\"right\":[]},\"columnSizing\":{\"business_id\":249},\"columnVisibility\":{}},\"settings\":{\"columns\":{}},\"syncTimestamp\":1753745626113}",
       "filterBlob": null,
       "queryPlanFiltersBlob": null,
       "tableResultIndex": 0
      }
     },
     "title": ""
    }
   },
   "outputs": [],
   "source": [
    "%sql\n",
    "SELECT *\n",
    "FROM read_files(\n",
    "    \"/Volumes/training_catalog/yelp_db/training_files/*business*\",\n",
    "    FORMAT => \"JSON\"\n",
    ")\n",
    "LIMIT 5;"
   ]
  },
  {
   "cell_type": "markdown",
   "metadata": {
    "application/vnd.databricks.v1+cell": {
     "cellMetadata": {},
     "inputWidgets": {},
     "nuid": "05ffc65b-b80a-4d02-a152-a4a25fc41f41",
     "showTitle": false,
     "tableResultSettingsMap": {},
     "title": ""
    }
   },
   "source": [
    "#### Checkin"
   ]
  },
  {
   "cell_type": "code",
   "execution_count": 0,
   "metadata": {
    "application/vnd.databricks.v1+cell": {
     "cellMetadata": {
      "byteLimit": 2048000,
      "rowLimit": 10000
     },
     "inputWidgets": {},
     "nuid": "f7a4c234-87bc-4cc0-a390-5f9b88a2edf1",
     "showTitle": false,
     "tableResultSettingsMap": {},
     "title": ""
    }
   },
   "outputs": [],
   "source": [
    "spark.sql(\"SELECT * FROM text.`/Volumes/training_catalog/yelp_db/training_files/*checkin*` LIMIT 5\").display()"
   ]
  },
  {
   "cell_type": "code",
   "execution_count": 0,
   "metadata": {
    "application/vnd.databricks.v1+cell": {
     "cellMetadata": {
      "byteLimit": 2048000,
      "implicitDf": true,
      "rowLimit": 10000
     },
     "inputWidgets": {},
     "nuid": "1ee72d9d-1f7f-4faf-b281-de588098c3a6",
     "showTitle": false,
     "tableResultSettingsMap": {},
     "title": ""
    }
   },
   "outputs": [],
   "source": [
    "%sql\n",
    "SELECT *\n",
    "FROM read_files(\n",
    "    \"/Volumes/training_catalog/yelp_db/training_files/*checkin*\",\n",
    "    FORMAT => \"JSON\"\n",
    ")\n",
    "LIMIT 5;"
   ]
  },
  {
   "cell_type": "markdown",
   "metadata": {
    "application/vnd.databricks.v1+cell": {
     "cellMetadata": {},
     "inputWidgets": {},
     "nuid": "294859f3-3775-47c7-94d4-122542df57a2",
     "showTitle": false,
     "tableResultSettingsMap": {},
     "title": ""
    }
   },
   "source": [
    "#### Tip"
   ]
  },
  {
   "cell_type": "code",
   "execution_count": 0,
   "metadata": {
    "application/vnd.databricks.v1+cell": {
     "cellMetadata": {
      "byteLimit": 2048000,
      "rowLimit": 10000
     },
     "inputWidgets": {},
     "nuid": "e57d1836-11ab-4b02-9fc1-130e2a04de6c",
     "showTitle": false,
     "tableResultSettingsMap": {},
     "title": ""
    }
   },
   "outputs": [],
   "source": [
    "spark.sql(\"SELECT * FROM text.`/Volumes/training_catalog/yelp_db/training_files/*tip*` LIMIT 5\").display()"
   ]
  },
  {
   "cell_type": "code",
   "execution_count": 0,
   "metadata": {
    "application/vnd.databricks.v1+cell": {
     "cellMetadata": {
      "byteLimit": 2048000,
      "implicitDf": true,
      "rowLimit": 10000
     },
     "inputWidgets": {},
     "nuid": "893817c3-c536-4d0d-ba33-52bffe475e33",
     "showTitle": false,
     "tableResultSettingsMap": {},
     "title": ""
    }
   },
   "outputs": [],
   "source": [
    "%sql\n",
    "SELECT *\n",
    "FROM read_files(\n",
    "    \"/Volumes/training_catalog/yelp_db/training_files/*tip*\",\n",
    "    FORMAT => \"JSON\"\n",
    ")\n",
    "LIMIT 5;"
   ]
  },
  {
   "cell_type": "markdown",
   "metadata": {
    "application/vnd.databricks.v1+cell": {
     "cellMetadata": {},
     "inputWidgets": {},
     "nuid": "e6dac619-0894-4cfa-a35f-10029e9b26eb",
     "showTitle": false,
     "tableResultSettingsMap": {},
     "title": ""
    }
   },
   "source": [
    "### 3.2. Creating managed delta table"
   ]
  },
  {
   "cell_type": "markdown",
   "metadata": {
    "application/vnd.databricks.v1+cell": {
     "cellMetadata": {},
     "inputWidgets": {},
     "nuid": "e69c559b-5979-4a42-b92b-b2aee3665a11",
     "showTitle": false,
     "tableResultSettingsMap": {},
     "title": ""
    }
   },
   "source": [
    "#### 3.2.1. Store data into table"
   ]
  },
  {
   "cell_type": "markdown",
   "metadata": {
    "application/vnd.databricks.v1+cell": {
     "cellMetadata": {},
     "inputWidgets": {},
     "nuid": "c7c49115-5194-4cc3-8b1d-0a1ee7632722",
     "showTitle": false,
     "tableResultSettingsMap": {},
     "title": ""
    }
   },
   "source": [
    "##### Business"
   ]
  },
  {
   "cell_type": "code",
   "execution_count": 0,
   "metadata": {
    "application/vnd.databricks.v1+cell": {
     "cellMetadata": {
      "byteLimit": 2048000,
      "implicitDf": true,
      "rowLimit": 10000
     },
     "inputWidgets": {},
     "nuid": "f71963d2-65eb-4ee8-9c72-7dec15b9d90c",
     "showTitle": false,
     "tableResultSettingsMap": {
      "0": {
       "dataGridStateBlob": "{\"version\":1,\"tableState\":{\"columnPinning\":{\"left\":[\"#row_number#\"],\"right\":[]},\"columnSizing\":{\"hours\":928},\"columnVisibility\":{}},\"settings\":{\"columns\":{}},\"syncTimestamp\":1753751022130}",
       "filterBlob": null,
       "queryPlanFiltersBlob": null,
       "tableResultIndex": 0
      }
     },
     "title": ""
    }
   },
   "outputs": [],
   "source": [
    "%sql\n",
    "DROP TABLE IF EXISTS yelp_business_bronze;\n",
    "\n",
    "-- Create table\n",
    "CREATE TABLE IF NOT EXISTS yelp_business_bronze\n",
    "AS\n",
    "SELECT\n",
    "    *,\n",
    "    _metadata.file_modification_time,\n",
    "    _metadata.file_name\n",
    "FROM read_files(\n",
    "    \"/Volumes/training_catalog/yelp_db/training_files/*business*\",\n",
    "    FORMAT => \"JSON\",\n",
    "    HEADER => TRUE,\n",
    "    SCHEMA => '''\n",
    "        business_id STRING,\n",
    "        name STRING,\n",
    "        address STRING,\n",
    "        city STRING,\n",
    "        state STRING,\n",
    "        postal_code STRING,\n",
    "        latitude DOUBLE,\n",
    "        longitude DOUBLE,\n",
    "        stars DOUBLE,\n",
    "        review_count INT,\n",
    "        is_open TINYINT,\n",
    "        attributes STRING,\n",
    "        categories STRING,\n",
    "        hours STRING\n",
    "    ''',\n",
    "    rescueddatacolumn => \"_rescued_data\"\n",
    ");\n",
    "\n",
    "-- Preview data\n",
    "SELECT * FROM yelp_business_bronze LIMIT 5;"
   ]
  },
  {
   "cell_type": "markdown",
   "metadata": {
    "application/vnd.databricks.v1+cell": {
     "cellMetadata": {},
     "inputWidgets": {},
     "nuid": "dad03ea8-b43d-466d-bff7-409b64fb68ab",
     "showTitle": false,
     "tableResultSettingsMap": {},
     "title": ""
    }
   },
   "source": [
    "##### Checkin"
   ]
  },
  {
   "cell_type": "code",
   "execution_count": 0,
   "metadata": {
    "application/vnd.databricks.v1+cell": {
     "cellMetadata": {
      "byteLimit": 2048000,
      "implicitDf": true,
      "rowLimit": 10000
     },
     "inputWidgets": {},
     "nuid": "07e9c8a6-7d5b-4840-889a-5cc8f3db894e",
     "showTitle": false,
     "tableResultSettingsMap": {},
     "title": ""
    }
   },
   "outputs": [],
   "source": [
    "%sql\n",
    "DROP TABLE IF EXISTS yelp_checkin_bronze;\n",
    "\n",
    "-- Create table\n",
    "CREATE TABLE IF NOT EXISTS yelp_checkin_bronze\n",
    "AS\n",
    "SELECT\n",
    "    *,\n",
    "    _metadata.file_modification_time,\n",
    "    _metadata.file_name\n",
    "FROM read_files(\n",
    "    \"/Volumes/training_catalog/yelp_db/training_files/*checkin*\",\n",
    "    FORMAT => \"JSON\",\n",
    "    HEADER => TRUE,\n",
    "    SCHEMA => '''\n",
    "        business_id STRING,\n",
    "        date STRING\n",
    "    ''',\n",
    "    rescueddatacolumn => \"_rescued_data\"\n",
    ");\n",
    "\n",
    "-- Preview data\n",
    "SELECT * FROM yelp_checkin_bronze LIMIT 5;"
   ]
  },
  {
   "cell_type": "markdown",
   "metadata": {
    "application/vnd.databricks.v1+cell": {
     "cellMetadata": {},
     "inputWidgets": {},
     "nuid": "a466ed1a-0b50-4417-af02-d726ffa1d5cf",
     "showTitle": false,
     "tableResultSettingsMap": {},
     "title": ""
    }
   },
   "source": [
    "##### Tip"
   ]
  },
  {
   "cell_type": "code",
   "execution_count": 0,
   "metadata": {
    "application/vnd.databricks.v1+cell": {
     "cellMetadata": {
      "byteLimit": 2048000,
      "implicitDf": true,
      "rowLimit": 10000
     },
     "inputWidgets": {},
     "nuid": "070bbce4-9c9f-4e92-839e-65683c9361e3",
     "showTitle": false,
     "tableResultSettingsMap": {
      "0": {
       "dataGridStateBlob": "{\"version\":1,\"tableState\":{\"columnPinning\":{\"left\":[\"#row_number#\"],\"right\":[]},\"columnSizing\":{\"date\":235},\"columnVisibility\":{}},\"settings\":{\"columns\":{}},\"syncTimestamp\":1754186677331}",
       "filterBlob": null,
       "queryPlanFiltersBlob": null,
       "tableResultIndex": 0
      }
     },
     "title": ""
    }
   },
   "outputs": [],
   "source": [
    "%sql\n",
    "DROP TABLE IF EXISTS yelp_tip_bronze;\n",
    "\n",
    "-- Create table\n",
    "CREATE TABLE IF NOT EXISTS yelp_tip_bronze\n",
    "AS\n",
    "SELECT\n",
    "  *,\n",
    "  _metadata.file_modification_time,\n",
    "  _metadata.file_name\n",
    "FROM read_files(\n",
    "    \"/Volumes/training_catalog/yelp_db/training_files/*tip*\",\n",
    "    FORMAT => \"JSON\",\n",
    "    HEADER => TRUE,\n",
    "    SCHEMA => '''\n",
    "        user_id STRING,\n",
    "        business_id STRING,\n",
    "        text STRING,\n",
    "        date TIMESTAMP_NTZ,\n",
    "        compliment_count INT\n",
    "    ''',\n",
    "    rescueddatacolumn => \"_rescued_data\"\n",
    ");\n",
    "\n",
    "-- Preview data\n",
    "SELECT * FROM yelp_tip_bronze LIMIT 5;"
   ]
  },
  {
   "cell_type": "markdown",
   "metadata": {
    "application/vnd.databricks.v1+cell": {
     "cellMetadata": {},
     "inputWidgets": {},
     "nuid": "1591f02d-77e6-4e2e-b69d-72b0353505ff",
     "showTitle": false,
     "tableResultSettingsMap": {},
     "title": ""
    }
   },
   "source": [
    "#### 3.2.2. Store data with selected values from json into a new table"
   ]
  },
  {
   "cell_type": "markdown",
   "metadata": {
    "application/vnd.databricks.v1+cell": {
     "cellMetadata": {},
     "inputWidgets": {},
     "nuid": "9b2e3912-726e-4c2a-af52-074c50cac1cb",
     "showTitle": false,
     "tableResultSettingsMap": {},
     "title": ""
    }
   },
   "source": [
    "##### Business"
   ]
  },
  {
   "cell_type": "code",
   "execution_count": 0,
   "metadata": {
    "application/vnd.databricks.v1+cell": {
     "cellMetadata": {
      "byteLimit": 2048000,
      "implicitDf": true,
      "rowLimit": 10000
     },
     "inputWidgets": {},
     "nuid": "169e8240-3e7a-4141-9fe8-93508b5d620b",
     "showTitle": false,
     "tableResultSettingsMap": {},
     "title": ""
    }
   },
   "outputs": [],
   "source": [
    "%sql\n",
    "SELECT * FROM yelp_business_bronze;"
   ]
  },
  {
   "cell_type": "code",
   "execution_count": 0,
   "metadata": {
    "application/vnd.databricks.v1+cell": {
     "cellMetadata": {
      "byteLimit": 2048000,
      "implicitDf": true,
      "rowLimit": 10000
     },
     "inputWidgets": {},
     "nuid": "db47800a-0a49-4d70-927f-047d1e0d9751",
     "showTitle": false,
     "tableResultSettingsMap": {},
     "title": ""
    }
   },
   "outputs": [],
   "source": [
    "%sql\n",
    "CREATE OR REPLACE TABLE yelp_business_json_bronze\n",
    "AS\n",
    "SELECT \n",
    "  * \n",
    "  EXCEPT(attributes, hours),\n",
    "  attributes.AcceptsInsurance AS accepts_insurance,\n",
    "  hours.Sunday AS sunday_hour,\n",
    "  hours.Monday AS monday_hour,\n",
    "  hours.Tuesday AS tuesday_hour,\n",
    "  hours.Wednesday AS wednesday_hour,\n",
    "  hours.Thursday AS thursday_hour,\n",
    "  hours.Friday AS friday_hour,\n",
    "  hours.Saturday AS saturday_hour\n",
    "FROM yelp_business_bronze;\n",
    "\n",
    "SELECT * FROM yelp_business_json_bronze LIMIT 5;"
   ]
  }
 ],
 "metadata": {
  "application/vnd.databricks.v1+notebook": {
   "computePreferences": null,
   "dashboards": [],
   "environmentMetadata": {
    "base_environment": "",
    "environment_version": "2"
   },
   "inputWidgetPreferences": null,
   "language": "python",
   "notebookMetadata": {
    "mostRecentlyExecutedCommandWithImplicitDF": {
     "commandId": 8755383281711032,
     "dataframes": [
      "_sqldf"
     ]
    },
    "pythonIndentUnit": 4
   },
   "notebookName": "2_data_ingestion_process",
   "widgets": {}
  },
  "language_info": {
   "name": "python"
  }
 },
 "nbformat": 4,
 "nbformat_minor": 0
}

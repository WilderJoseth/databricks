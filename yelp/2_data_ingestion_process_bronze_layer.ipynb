{
 "cells": [
  {
   "cell_type": "markdown",
   "metadata": {
    "application/vnd.databricks.v1+cell": {
     "cellMetadata": {},
     "inputWidgets": {},
     "nuid": "a738eabe-9605-4757-b2c3-b01cf2216796",
     "showTitle": false,
     "tableResultSettingsMap": {},
     "title": ""
    }
   },
   "source": [
    "# Yelp"
   ]
  },
  {
   "cell_type": "markdown",
   "metadata": {
    "application/vnd.databricks.v1+cell": {
     "cellMetadata": {},
     "inputWidgets": {},
     "nuid": "be4ec0ba-8bec-41ab-93fb-889572c2e7aa",
     "showTitle": false,
     "tableResultSettingsMap": {},
     "title": ""
    }
   },
   "source": [
    "## 1. Introduction\n",
    "\n",
    "The purpose of this notebook is to implement an inital and incremental load for BRONZE stage using JSON data."
   ]
  },
  {
   "cell_type": "markdown",
   "metadata": {
    "application/vnd.databricks.v1+cell": {
     "cellMetadata": {},
     "inputWidgets": {},
     "nuid": "a7287a6f-bac5-4b8f-9823-dea9c096699b",
     "showTitle": false,
     "tableResultSettingsMap": {},
     "title": ""
    }
   },
   "source": [
    "## 2. Environment setup"
   ]
  },
  {
   "cell_type": "code",
   "execution_count": 0,
   "metadata": {
    "application/vnd.databricks.v1+cell": {
     "cellMetadata": {
      "byteLimit": 2048000,
      "implicitDf": true,
      "rowLimit": 10000
     },
     "inputWidgets": {},
     "nuid": "6821a567-c578-4d2b-b1e7-da284d49bf54",
     "showTitle": false,
     "tableResultSettingsMap": {},
     "title": ""
    }
   },
   "outputs": [],
   "source": [
    "%sql\n",
    "USE CATALOG training_catalog;"
   ]
  },
  {
   "cell_type": "code",
   "execution_count": 0,
   "metadata": {
    "application/vnd.databricks.v1+cell": {
     "cellMetadata": {
      "byteLimit": 2048000,
      "implicitDf": true,
      "rowLimit": 10000
     },
     "inputWidgets": {},
     "nuid": "d8ecb320-c12f-459c-b802-feb548fdec0a",
     "showTitle": false,
     "tableResultSettingsMap": {},
     "title": ""
    }
   },
   "outputs": [],
   "source": [
    "%sql\n",
    "USE SCHEMA yelp_db;"
   ]
  },
  {
   "cell_type": "code",
   "execution_count": 0,
   "metadata": {
    "application/vnd.databricks.v1+cell": {
     "cellMetadata": {
      "byteLimit": 2048000,
      "implicitDf": true,
      "rowLimit": 10000
     },
     "inputWidgets": {},
     "nuid": "7985694e-4045-4d09-b582-8b00b520e91a",
     "showTitle": false,
     "tableResultSettingsMap": {},
     "title": ""
    }
   },
   "outputs": [],
   "source": [
    "%sql\n",
    "SELECT current_catalog() AS current_catalog, current_schema() AS current_schema;"
   ]
  },
  {
   "cell_type": "markdown",
   "metadata": {
    "application/vnd.databricks.v1+cell": {
     "cellMetadata": {},
     "inputWidgets": {},
     "nuid": "85c6fbbb-72de-4258-a65e-d2e504055d1e",
     "showTitle": false,
     "tableResultSettingsMap": {},
     "title": ""
    }
   },
   "source": [
    "## 3. Batch data ingestion with CTAS\n",
    "\n",
    "This method is to ingest data as a inital load.\n",
    "\n",
    "Steps:\n",
    "\n",
    "1. Create table\n",
    "2. Ingest data"
   ]
  },
  {
   "cell_type": "markdown",
   "metadata": {
    "application/vnd.databricks.v1+cell": {
     "cellMetadata": {},
     "inputWidgets": {},
     "nuid": "5c6c4948-b1e7-4307-ac41-00fe2bf95dc9",
     "showTitle": false,
     "tableResultSettingsMap": {},
     "title": ""
    }
   },
   "source": [
    "### 3.1. Exploring data\n",
    "\n",
    "There are five source data files.\n",
    "\n",
    "* business.\n",
    "* checkin.\n",
    "* review.\n",
    "* tip.\n",
    "* user.\n",
    "\n",
    "Additionally, initial files have the number \"1\" in their name."
   ]
  },
  {
   "cell_type": "markdown",
   "metadata": {
    "application/vnd.databricks.v1+cell": {
     "cellMetadata": {},
     "inputWidgets": {},
     "nuid": "de404905-a776-4a49-abb2-7e8d7824d793",
     "showTitle": false,
     "tableResultSettingsMap": {},
     "title": ""
    }
   },
   "source": [
    "Exploring files"
   ]
  },
  {
   "cell_type": "code",
   "execution_count": 0,
   "metadata": {
    "application/vnd.databricks.v1+cell": {
     "cellMetadata": {
      "byteLimit": 2048000,
      "implicitDf": true,
      "rowLimit": 10000
     },
     "inputWidgets": {},
     "nuid": "a195ceb4-9f36-47e5-9ea6-c3d25e015737",
     "showTitle": false,
     "tableResultSettingsMap": {},
     "title": ""
    }
   },
   "outputs": [],
   "source": [
    "%sql\n",
    "LIST \"/Volumes/training_catalog/yelp_db/training_files\""
   ]
  },
  {
   "cell_type": "markdown",
   "metadata": {
    "application/vnd.databricks.v1+cell": {
     "cellMetadata": {},
     "inputWidgets": {},
     "nuid": "d6a8a628-fa25-4bd1-adea-367f6d1e3a7a",
     "showTitle": false,
     "tableResultSettingsMap": {},
     "title": ""
    }
   },
   "source": [
    "#### Business"
   ]
  },
  {
   "cell_type": "code",
   "execution_count": 0,
   "metadata": {
    "application/vnd.databricks.v1+cell": {
     "cellMetadata": {
      "byteLimit": 2048000,
      "rowLimit": 10000
     },
     "inputWidgets": {},
     "nuid": "e7c19a0c-9c6c-41eb-bfc0-c5165779b9f0",
     "showTitle": false,
     "tableResultSettingsMap": {
      "0": {
       "dataGridStateBlob": "{\"version\":1,\"tableState\":{\"columnPinning\":{\"left\":[\"#row_number#\"],\"right\":[]},\"columnSizing\":{\"value\":1307},\"columnVisibility\":{}},\"settings\":{\"columns\":{}},\"syncTimestamp\":1753741865071}",
       "filterBlob": null,
       "queryPlanFiltersBlob": null,
       "tableResultIndex": 0
      }
     },
     "title": ""
    }
   },
   "outputs": [],
   "source": [
    "spark.sql(\"SELECT * FROM text.`/Volumes/training_catalog/yelp_db/training_files/*business*` LIMIT 5\").display()"
   ]
  },
  {
   "cell_type": "code",
   "execution_count": 0,
   "metadata": {
    "application/vnd.databricks.v1+cell": {
     "cellMetadata": {
      "byteLimit": 2048000,
      "implicitDf": true,
      "rowLimit": 10000
     },
     "inputWidgets": {},
     "nuid": "cc7f7ffd-5f58-46da-a5f7-bf7e8f91cd8a",
     "showTitle": false,
     "tableResultSettingsMap": {
      "0": {
       "dataGridStateBlob": "{\"version\":1,\"tableState\":{\"columnPinning\":{\"left\":[\"#row_number#\"],\"right\":[]},\"columnSizing\":{\"business_id\":249},\"columnVisibility\":{}},\"settings\":{\"columns\":{}},\"syncTimestamp\":1753745626113}",
       "filterBlob": null,
       "queryPlanFiltersBlob": null,
       "tableResultIndex": 0
      }
     },
     "title": ""
    }
   },
   "outputs": [],
   "source": [
    "%sql\n",
    "SELECT *\n",
    "FROM read_files(\n",
    "    \"/Volumes/training_catalog/yelp_db/training_files/*business*\",\n",
    "    FORMAT => \"JSON\"\n",
    ")\n",
    "LIMIT 5;"
   ]
  },
  {
   "cell_type": "markdown",
   "metadata": {
    "application/vnd.databricks.v1+cell": {
     "cellMetadata": {},
     "inputWidgets": {},
     "nuid": "05ffc65b-b80a-4d02-a152-a4a25fc41f41",
     "showTitle": false,
     "tableResultSettingsMap": {},
     "title": ""
    }
   },
   "source": [
    "#### Checkin"
   ]
  },
  {
   "cell_type": "code",
   "execution_count": 0,
   "metadata": {
    "application/vnd.databricks.v1+cell": {
     "cellMetadata": {
      "byteLimit": 2048000,
      "rowLimit": 10000
     },
     "inputWidgets": {},
     "nuid": "f7a4c234-87bc-4cc0-a390-5f9b88a2edf1",
     "showTitle": false,
     "tableResultSettingsMap": {},
     "title": ""
    }
   },
   "outputs": [],
   "source": [
    "spark.sql(\"SELECT * FROM text.`/Volumes/training_catalog/yelp_db/training_files/*checkin*` LIMIT 5\").display()"
   ]
  },
  {
   "cell_type": "code",
   "execution_count": 0,
   "metadata": {
    "application/vnd.databricks.v1+cell": {
     "cellMetadata": {
      "byteLimit": 2048000,
      "implicitDf": true,
      "rowLimit": 10000
     },
     "inputWidgets": {},
     "nuid": "1ee72d9d-1f7f-4faf-b281-de588098c3a6",
     "showTitle": false,
     "tableResultSettingsMap": {},
     "title": ""
    }
   },
   "outputs": [],
   "source": [
    "%sql\n",
    "SELECT *\n",
    "FROM read_files(\n",
    "    \"/Volumes/training_catalog/yelp_db/training_files/*checkin*\",\n",
    "    FORMAT => \"JSON\"\n",
    ")\n",
    "LIMIT 5;"
   ]
  },
  {
   "cell_type": "markdown",
   "metadata": {
    "application/vnd.databricks.v1+cell": {
     "cellMetadata": {},
     "inputWidgets": {},
     "nuid": "294859f3-3775-47c7-94d4-122542df57a2",
     "showTitle": false,
     "tableResultSettingsMap": {},
     "title": ""
    }
   },
   "source": [
    "#### Tip"
   ]
  },
  {
   "cell_type": "code",
   "execution_count": 0,
   "metadata": {
    "application/vnd.databricks.v1+cell": {
     "cellMetadata": {
      "byteLimit": 2048000,
      "rowLimit": 10000
     },
     "inputWidgets": {},
     "nuid": "e57d1836-11ab-4b02-9fc1-130e2a04de6c",
     "showTitle": false,
     "tableResultSettingsMap": {},
     "title": ""
    }
   },
   "outputs": [],
   "source": [
    "spark.sql(\"SELECT * FROM text.`/Volumes/training_catalog/yelp_db/training_files/*tip*` LIMIT 5\").display()"
   ]
  },
  {
   "cell_type": "code",
   "execution_count": 0,
   "metadata": {
    "application/vnd.databricks.v1+cell": {
     "cellMetadata": {
      "byteLimit": 2048000,
      "implicitDf": true,
      "rowLimit": 10000
     },
     "inputWidgets": {},
     "nuid": "893817c3-c536-4d0d-ba33-52bffe475e33",
     "showTitle": false,
     "tableResultSettingsMap": {},
     "title": ""
    }
   },
   "outputs": [],
   "source": [
    "%sql\n",
    "SELECT *\n",
    "FROM read_files(\n",
    "    \"/Volumes/training_catalog/yelp_db/training_files/*tip*\",\n",
    "    FORMAT => \"JSON\"\n",
    ")\n",
    "LIMIT 5;"
   ]
  },
  {
   "cell_type": "markdown",
   "metadata": {
    "application/vnd.databricks.v1+cell": {
     "cellMetadata": {},
     "inputWidgets": {},
     "nuid": "200db2b2-77b4-46f4-9245-f478ec5f6b85",
     "showTitle": false,
     "tableResultSettingsMap": {},
     "title": ""
    }
   },
   "source": [
    "#### Review"
   ]
  },
  {
   "cell_type": "code",
   "execution_count": 0,
   "metadata": {
    "application/vnd.databricks.v1+cell": {
     "cellMetadata": {
      "byteLimit": 2048000,
      "rowLimit": 10000
     },
     "inputWidgets": {},
     "nuid": "97b1e65f-4cbb-44ae-884e-b46a50833181",
     "showTitle": false,
     "tableResultSettingsMap": {},
     "title": ""
    }
   },
   "outputs": [],
   "source": [
    "spark.sql(\"SELECT * FROM text.`/Volumes/training_catalog/yelp_db/training_files/*review*` LIMIT 5\").display()"
   ]
  },
  {
   "cell_type": "code",
   "execution_count": 0,
   "metadata": {
    "application/vnd.databricks.v1+cell": {
     "cellMetadata": {
      "byteLimit": 2048000,
      "implicitDf": true,
      "rowLimit": 10000
     },
     "inputWidgets": {},
     "nuid": "234fd91a-4f64-4cdd-9d4d-86c3c36fee70",
     "showTitle": false,
     "tableResultSettingsMap": {},
     "title": ""
    }
   },
   "outputs": [],
   "source": [
    "%sql\n",
    "SELECT *\n",
    "FROM read_files(\n",
    "    \"/Volumes/training_catalog/yelp_db/training_files/*review*\",\n",
    "    FORMAT => \"JSON\"\n",
    ")\n",
    "LIMIT 5;"
   ]
  },
  {
   "cell_type": "markdown",
   "metadata": {
    "application/vnd.databricks.v1+cell": {
     "cellMetadata": {},
     "inputWidgets": {},
     "nuid": "e7d5be39-b81c-434d-aae3-a63c627d60e1",
     "showTitle": false,
     "tableResultSettingsMap": {},
     "title": ""
    }
   },
   "source": [
    "#### User"
   ]
  },
  {
   "cell_type": "code",
   "execution_count": 0,
   "metadata": {
    "application/vnd.databricks.v1+cell": {
     "cellMetadata": {
      "byteLimit": 2048000,
      "rowLimit": 10000
     },
     "inputWidgets": {},
     "nuid": "499d252a-e0e5-4bba-ae00-eec9c16486f7",
     "showTitle": false,
     "tableResultSettingsMap": {},
     "title": ""
    }
   },
   "outputs": [],
   "source": [
    "spark.sql(\"SELECT * FROM text.`/Volumes/training_catalog/yelp_db/training_files/*user*` LIMIT 5\").display()"
   ]
  },
  {
   "cell_type": "code",
   "execution_count": 0,
   "metadata": {
    "application/vnd.databricks.v1+cell": {
     "cellMetadata": {
      "byteLimit": 2048000,
      "implicitDf": true,
      "rowLimit": 10000
     },
     "inputWidgets": {},
     "nuid": "4a21dfc6-ca68-4875-80aa-f0f0d44ef07d",
     "showTitle": false,
     "tableResultSettingsMap": {},
     "title": ""
    }
   },
   "outputs": [],
   "source": [
    "%sql\n",
    "SELECT *\n",
    "FROM read_files(\n",
    "    \"/Volumes/training_catalog/yelp_db/training_files/*user*\",\n",
    "    FORMAT => \"JSON\"\n",
    ")\n",
    "LIMIT 5;"
   ]
  },
  {
   "cell_type": "markdown",
   "metadata": {
    "application/vnd.databricks.v1+cell": {
     "cellMetadata": {},
     "inputWidgets": {},
     "nuid": "e6dac619-0894-4cfa-a35f-10029e9b26eb",
     "showTitle": false,
     "tableResultSettingsMap": {},
     "title": ""
    }
   },
   "source": [
    "### 3.2. Creating managed delta table"
   ]
  },
  {
   "cell_type": "markdown",
   "metadata": {
    "application/vnd.databricks.v1+cell": {
     "cellMetadata": {},
     "inputWidgets": {},
     "nuid": "e69c559b-5979-4a42-b92b-b2aee3665a11",
     "showTitle": false,
     "tableResultSettingsMap": {},
     "title": ""
    }
   },
   "source": [
    "#### Store data into table"
   ]
  },
  {
   "cell_type": "markdown",
   "metadata": {
    "application/vnd.databricks.v1+cell": {
     "cellMetadata": {},
     "inputWidgets": {},
     "nuid": "c7c49115-5194-4cc3-8b1d-0a1ee7632722",
     "showTitle": false,
     "tableResultSettingsMap": {},
     "title": ""
    }
   },
   "source": [
    "##### Business"
   ]
  },
  {
   "cell_type": "markdown",
   "metadata": {
    "application/vnd.databricks.v1+cell": {
     "cellMetadata": {},
     "inputWidgets": {},
     "nuid": "181ad71d-9f05-4e69-9eae-d7d6f01563ed",
     "showTitle": false,
     "tableResultSettingsMap": {},
     "title": ""
    }
   },
   "source": [
    "Load JSON data as string"
   ]
  },
  {
   "cell_type": "code",
   "execution_count": 0,
   "metadata": {
    "application/vnd.databricks.v1+cell": {
     "cellMetadata": {
      "byteLimit": 2048000,
      "implicitDf": true,
      "rowLimit": 10000
     },
     "inputWidgets": {},
     "nuid": "f71963d2-65eb-4ee8-9c72-7dec15b9d90c",
     "showTitle": false,
     "tableResultSettingsMap": {
      "0": {
       "dataGridStateBlob": "{\"version\":1,\"tableState\":{\"columnPinning\":{\"left\":[\"#row_number#\"],\"right\":[]},\"columnSizing\":{\"hours\":928},\"columnVisibility\":{}},\"settings\":{\"columns\":{}},\"syncTimestamp\":1753751022130}",
       "filterBlob": null,
       "queryPlanFiltersBlob": null,
       "tableResultIndex": 0
      }
     },
     "title": ""
    }
   },
   "outputs": [],
   "source": [
    "%sql\n",
    "DROP TABLE IF EXISTS yelp_business_json_string_bronze;\n",
    "\n",
    "-- Create table\n",
    "CREATE TABLE IF NOT EXISTS yelp_business_json_string_bronze\n",
    "AS\n",
    "SELECT\n",
    "    *,\n",
    "    _metadata.file_modification_time,\n",
    "    _metadata.file_name\n",
    "FROM read_files(\n",
    "    \"/Volumes/training_catalog/yelp_db/training_files/*business*1*\",\n",
    "    FORMAT => \"JSON\",\n",
    "    HEADER => TRUE,\n",
    "    SCHEMA => '''\n",
    "        business_id STRING,\n",
    "        name STRING,\n",
    "        address STRING,\n",
    "        city STRING,\n",
    "        state STRING,\n",
    "        postal_code STRING,\n",
    "        latitude DOUBLE,\n",
    "        longitude DOUBLE,\n",
    "        stars DOUBLE,\n",
    "        review_count INT,\n",
    "        is_open TINYINT,\n",
    "        attributes STRING,\n",
    "        categories STRING,\n",
    "        hours STRING\n",
    "    ''',\n",
    "    rescueddatacolumn => \"_rescued_data\"\n",
    ");\n",
    "\n",
    "-- Preview data\n",
    "SELECT * FROM yelp_business_json_string_bronze LIMIT 5;"
   ]
  },
  {
   "cell_type": "markdown",
   "metadata": {
    "application/vnd.databricks.v1+cell": {
     "cellMetadata": {},
     "inputWidgets": {},
     "nuid": "fb9ca7c0-875e-406f-803a-b96671d3c919",
     "showTitle": false,
     "tableResultSettingsMap": {},
     "title": ""
    }
   },
   "source": [
    "Get JSON structure"
   ]
  },
  {
   "cell_type": "code",
   "execution_count": 0,
   "metadata": {
    "application/vnd.databricks.v1+cell": {
     "cellMetadata": {
      "byteLimit": 2048000,
      "implicitDf": true,
      "rowLimit": 10000
     },
     "inputWidgets": {},
     "nuid": "a644787f-19e0-498b-af5d-ade7813e6be6",
     "showTitle": false,
     "tableResultSettingsMap": {},
     "title": ""
    }
   },
   "outputs": [],
   "source": [
    "%sql\n",
    "SELECT schema_of_json('{\"Monday\":\"8:0-22:0\",\"Tuesday\":\"8:0-22:0\",\"Wednesday\":\"8:0-22:0\",\"Thursday\":\"8:0-22:0\",\"Friday\":\"8:0-23:0\",\"Saturday\":\"8:0-23:0\",\"Sunday\":\"8:0-22:0\"}');"
   ]
  },
  {
   "cell_type": "markdown",
   "metadata": {
    "application/vnd.databricks.v1+cell": {
     "cellMetadata": {},
     "inputWidgets": {},
     "nuid": "1d8d5823-ee06-4d15-9d16-e2196d20b01e",
     "showTitle": false,
     "tableResultSettingsMap": {},
     "title": ""
    }
   },
   "source": [
    "Load JSON data as struct"
   ]
  },
  {
   "cell_type": "code",
   "execution_count": 0,
   "metadata": {
    "application/vnd.databricks.v1+cell": {
     "cellMetadata": {
      "byteLimit": 2048000,
      "implicitDf": true,
      "rowLimit": 10000
     },
     "inputWidgets": {},
     "nuid": "a38bafaa-bc95-443a-ac7a-256d928aa611",
     "showTitle": false,
     "tableResultSettingsMap": {},
     "title": ""
    }
   },
   "outputs": [],
   "source": [
    "%sql\n",
    "CREATE OR REPLACE TABLE yelp_business_bronze\n",
    "AS\n",
    "SELECT \n",
    "  * \n",
    "  EXCEPT(hours),\n",
    "  from_json(hours, 'STRUCT<Friday: STRING, Monday: STRING, Saturday: STRING, Sunday: STRING, Thursday: STRING, Tuesday: STRING, Wednesday: STRING>') AS hours_json\n",
    "FROM yelp_business_json_string_bronze;\n",
    "\n",
    "SELECT * FROM yelp_business_bronze LIMIT 5;"
   ]
  },
  {
   "cell_type": "markdown",
   "metadata": {
    "application/vnd.databricks.v1+cell": {
     "cellMetadata": {},
     "inputWidgets": {},
     "nuid": "34a71006-5e0f-4a2e-a81d-d129e50b7137",
     "showTitle": false,
     "tableResultSettingsMap": {},
     "title": ""
    }
   },
   "source": [
    "Remove string json delta table"
   ]
  },
  {
   "cell_type": "code",
   "execution_count": 0,
   "metadata": {
    "application/vnd.databricks.v1+cell": {
     "cellMetadata": {
      "byteLimit": 2048000,
      "implicitDf": true,
      "rowLimit": 10000
     },
     "inputWidgets": {},
     "nuid": "340083ff-957e-4bf8-97c3-6408c4857f41",
     "showTitle": false,
     "tableResultSettingsMap": {},
     "title": ""
    }
   },
   "outputs": [],
   "source": [
    "%sql\n",
    "DROP TABLE IF EXISTS yelp_business_json_string_bronze;"
   ]
  },
  {
   "cell_type": "markdown",
   "metadata": {
    "application/vnd.databricks.v1+cell": {
     "cellMetadata": {},
     "inputWidgets": {},
     "nuid": "dad03ea8-b43d-466d-bff7-409b64fb68ab",
     "showTitle": false,
     "tableResultSettingsMap": {},
     "title": ""
    }
   },
   "source": [
    "##### Checkin"
   ]
  },
  {
   "cell_type": "code",
   "execution_count": 0,
   "metadata": {
    "application/vnd.databricks.v1+cell": {
     "cellMetadata": {
      "byteLimit": 2048000,
      "implicitDf": true,
      "rowLimit": 10000
     },
     "inputWidgets": {},
     "nuid": "07e9c8a6-7d5b-4840-889a-5cc8f3db894e",
     "showTitle": false,
     "tableResultSettingsMap": {},
     "title": ""
    }
   },
   "outputs": [],
   "source": [
    "%sql\n",
    "DROP TABLE IF EXISTS yelp_checkin_bronze;\n",
    "\n",
    "-- Create table\n",
    "CREATE TABLE IF NOT EXISTS yelp_checkin_bronze\n",
    "AS\n",
    "SELECT\n",
    "    *,\n",
    "    _metadata.file_modification_time,\n",
    "    _metadata.file_name\n",
    "FROM read_files(\n",
    "    \"/Volumes/training_catalog/yelp_db/training_files/*checkin*1*\",\n",
    "    FORMAT => \"JSON\",\n",
    "    HEADER => TRUE,\n",
    "    SCHEMA => '''\n",
    "        business_id STRING,\n",
    "        date STRING\n",
    "    ''',\n",
    "    rescueddatacolumn => \"_rescued_data\"\n",
    ");\n",
    "\n",
    "-- Preview data\n",
    "SELECT * FROM yelp_checkin_bronze LIMIT 5;"
   ]
  },
  {
   "cell_type": "markdown",
   "metadata": {
    "application/vnd.databricks.v1+cell": {
     "cellMetadata": {},
     "inputWidgets": {},
     "nuid": "a466ed1a-0b50-4417-af02-d726ffa1d5cf",
     "showTitle": false,
     "tableResultSettingsMap": {},
     "title": ""
    }
   },
   "source": [
    "##### Tip"
   ]
  },
  {
   "cell_type": "code",
   "execution_count": 0,
   "metadata": {
    "application/vnd.databricks.v1+cell": {
     "cellMetadata": {
      "byteLimit": 2048000,
      "implicitDf": true,
      "rowLimit": 10000
     },
     "inputWidgets": {},
     "nuid": "070bbce4-9c9f-4e92-839e-65683c9361e3",
     "showTitle": false,
     "tableResultSettingsMap": {
      "0": {
       "dataGridStateBlob": "{\"version\":1,\"tableState\":{\"columnPinning\":{\"left\":[\"#row_number#\"],\"right\":[]},\"columnSizing\":{\"date\":235},\"columnVisibility\":{}},\"settings\":{\"columns\":{}},\"syncTimestamp\":1754186677331}",
       "filterBlob": null,
       "queryPlanFiltersBlob": null,
       "tableResultIndex": 0
      }
     },
     "title": ""
    }
   },
   "outputs": [],
   "source": [
    "%sql\n",
    "DROP TABLE IF EXISTS yelp_tip_bronze;\n",
    "\n",
    "-- Create table\n",
    "CREATE TABLE IF NOT EXISTS yelp_tip_bronze\n",
    "AS\n",
    "SELECT\n",
    "  *,\n",
    "  _metadata.file_modification_time,\n",
    "  _metadata.file_name\n",
    "FROM read_files(\n",
    "    \"/Volumes/training_catalog/yelp_db/training_files/*tip*1*\",\n",
    "    FORMAT => \"JSON\",\n",
    "    HEADER => TRUE,\n",
    "    SCHEMA => '''\n",
    "        user_id STRING,\n",
    "        business_id STRING,\n",
    "        text STRING,\n",
    "        date TIMESTAMP,\n",
    "        compliment_count INT\n",
    "    ''',\n",
    "    rescueddatacolumn => \"_rescued_data\"\n",
    ");\n",
    "\n",
    "-- Preview data\n",
    "SELECT * FROM yelp_tip_bronze LIMIT 5;"
   ]
  },
  {
   "cell_type": "markdown",
   "metadata": {
    "application/vnd.databricks.v1+cell": {
     "cellMetadata": {},
     "inputWidgets": {},
     "nuid": "af5b0e60-3759-4397-a097-836a1af70a9d",
     "showTitle": false,
     "tableResultSettingsMap": {},
     "title": ""
    }
   },
   "source": [
    "##### Review"
   ]
  },
  {
   "cell_type": "code",
   "execution_count": 0,
   "metadata": {
    "application/vnd.databricks.v1+cell": {
     "cellMetadata": {
      "byteLimit": 2048000,
      "implicitDf": true,
      "rowLimit": 10000
     },
     "inputWidgets": {},
     "nuid": "70b2cda3-3d62-4d17-adc1-27ed743c9fef",
     "showTitle": false,
     "tableResultSettingsMap": {
      "0": {
       "dataGridStateBlob": "{\"version\":1,\"tableState\":{\"columnPinning\":{\"left\":[\"#row_number#\"],\"right\":[]},\"columnSizing\":{\"date\":222},\"columnVisibility\":{}},\"settings\":{\"columns\":{}},\"syncTimestamp\":1754255068639}",
       "filterBlob": null,
       "queryPlanFiltersBlob": null,
       "tableResultIndex": 0
      }
     },
     "title": ""
    }
   },
   "outputs": [],
   "source": [
    "%sql\n",
    "DROP TABLE IF EXISTS yelp_review_bronze;\n",
    "\n",
    "-- Create table\n",
    "CREATE TABLE IF NOT EXISTS yelp_review_bronze\n",
    "AS\n",
    "SELECT\n",
    "  *,\n",
    "  _metadata.file_modification_time,\n",
    "  _metadata.file_name\n",
    "FROM read_files(\n",
    "    \"/Volumes/training_catalog/yelp_db/training_files/*review*1*\",\n",
    "    FORMAT => \"JSON\",\n",
    "    HEADER => TRUE,\n",
    "    SCHEMA => '''\n",
    "        review_id STRING,\n",
    "        user_id STRING,\n",
    "        business_id STRING,\n",
    "        stars DOUBLE,\n",
    "        useful INT,\n",
    "        funny INT,\n",
    "        cool INT,\n",
    "        text STRING,\n",
    "        date TIMESTAMP\n",
    "    ''',\n",
    "    rescueddatacolumn => \"_rescued_data\"\n",
    ");\n",
    "\n",
    "-- Preview data\n",
    "SELECT * FROM yelp_review_bronze LIMIT 5;"
   ]
  },
  {
   "cell_type": "markdown",
   "metadata": {
    "application/vnd.databricks.v1+cell": {
     "cellMetadata": {},
     "inputWidgets": {},
     "nuid": "66dd718a-e56d-44fa-ba4f-1a744570f919",
     "showTitle": false,
     "tableResultSettingsMap": {},
     "title": ""
    }
   },
   "source": [
    "##### User"
   ]
  },
  {
   "cell_type": "code",
   "execution_count": 0,
   "metadata": {
    "application/vnd.databricks.v1+cell": {
     "cellMetadata": {
      "byteLimit": 2048000,
      "implicitDf": true,
      "rowLimit": 10000
     },
     "inputWidgets": {},
     "nuid": "a7567931-19d7-4029-b441-bffacc60928a",
     "showTitle": false,
     "tableResultSettingsMap": {},
     "title": ""
    }
   },
   "outputs": [],
   "source": [
    "%sql\n",
    "DROP TABLE IF EXISTS yelp_user_bronze;\n",
    "\n",
    "-- Create table\n",
    "CREATE TABLE IF NOT EXISTS yelp_user_bronze\n",
    "AS\n",
    "SELECT\n",
    "  *,\n",
    "  _metadata.file_modification_time,\n",
    "  _metadata.file_name\n",
    "FROM read_files(\n",
    "    \"/Volumes/training_catalog/yelp_db/training_files/*user*1*\",\n",
    "    FORMAT => \"JSON\",\n",
    "    HEADER => TRUE,\n",
    "    SCHEMA => '''\n",
    "        user_id STRING,\n",
    "        name STRING,\n",
    "        review_count INT,\n",
    "        yelping_since TIMESTAMP,\n",
    "        useful INT,\n",
    "        funny INT,\n",
    "        cool INT,\n",
    "        elite STRING,\n",
    "        friends STRING,\n",
    "        fans INT,\n",
    "        average_stars DOUBLE,\n",
    "        compliment_hot INT,\n",
    "        compliment_more INT,\n",
    "        compliment_profile INT,\n",
    "        compliment_cute INT,\n",
    "        compliment_list INT,\n",
    "        compliment_note INT,\n",
    "        compliment_plain INT,\n",
    "        compliment_cool INT,\n",
    "        compliment_funny INT,\n",
    "        compliment_writer INT,\n",
    "        compliment_photos INT\n",
    "    ''',\n",
    "    rescueddatacolumn => \"_rescued_data\"\n",
    ");\n",
    "\n",
    "-- Preview data\n",
    "SELECT * FROM yelp_user_bronze LIMIT 5;"
   ]
  },
  {
   "cell_type": "markdown",
   "metadata": {
    "application/vnd.databricks.v1+cell": {
     "cellMetadata": {},
     "inputWidgets": {},
     "nuid": "2a1731ca-d4a5-428e-90c1-80b475f12379",
     "showTitle": false,
     "tableResultSettingsMap": {},
     "title": ""
    }
   },
   "source": [
    "## 4. Incremental ingestion\n",
    "\n",
    "This stage ingest new data to delta tables. However, to avoid duplicity the column **file_modification_time** is going to be used as filter, only taking the newest files.\n",
    "\n",
    "Finally, this method is safer that **COPY INTO**, which relies on if the previously ingested files has not suffered any changed, otherwise, it will be ingested again."
   ]
  },
  {
   "cell_type": "markdown",
   "metadata": {
    "application/vnd.databricks.v1+cell": {
     "cellMetadata": {},
     "inputWidgets": {},
     "nuid": "aa286e7a-fa4d-4fa5-bb77-99dd4b847dd2",
     "showTitle": false,
     "tableResultSettingsMap": {},
     "title": ""
    }
   },
   "source": [
    "##### Business"
   ]
  },
  {
   "cell_type": "code",
   "execution_count": 0,
   "metadata": {
    "application/vnd.databricks.v1+cell": {
     "cellMetadata": {
      "byteLimit": 2048000,
      "implicitDf": true,
      "rowLimit": 10000
     },
     "inputWidgets": {},
     "nuid": "1c71ee4e-1475-467d-844e-a2228e4444a6",
     "showTitle": false,
     "tableResultSettingsMap": {},
     "title": ""
    }
   },
   "outputs": [],
   "source": [
    "%sql\n",
    "SELECT file_name, COUNT(*) amount_per_file FROM yelp_business_bronze GROUP BY file_name ORDER BY file_name;"
   ]
  },
  {
   "cell_type": "markdown",
   "metadata": {
    "application/vnd.databricks.v1+cell": {
     "cellMetadata": {},
     "inputWidgets": {},
     "nuid": "8b9cfdbe-73ed-489b-ba8b-56355169da43",
     "showTitle": false,
     "tableResultSettingsMap": {},
     "title": ""
    }
   },
   "source": [
    "Load JSON data as string"
   ]
  },
  {
   "cell_type": "code",
   "execution_count": 0,
   "metadata": {
    "application/vnd.databricks.v1+cell": {
     "cellMetadata": {
      "byteLimit": 2048000,
      "implicitDf": true,
      "rowLimit": 10000
     },
     "inputWidgets": {},
     "nuid": "3fe5880d-aee0-4e76-adea-07dd3c910208",
     "showTitle": false,
     "tableResultSettingsMap": {},
     "title": ""
    }
   },
   "outputs": [],
   "source": [
    "%sql\n",
    "CREATE TABLE IF NOT EXISTS yelp_business_json_string_bronze\n",
    "AS\n",
    "SELECT\n",
    "    *,\n",
    "    _metadata.file_modification_time,\n",
    "    _metadata.file_name\n",
    "FROM read_files(\n",
    "    \"/Volumes/training_catalog/yelp_db/training_files/*business*\",\n",
    "    FORMAT => \"JSON\",\n",
    "    HEADER => TRUE,\n",
    "    SCHEMA => '''\n",
    "        business_id STRING,\n",
    "        name STRING,\n",
    "        address STRING,\n",
    "        city STRING,\n",
    "        state STRING,\n",
    "        postal_code STRING,\n",
    "        latitude DOUBLE,\n",
    "        longitude DOUBLE,\n",
    "        stars DOUBLE,\n",
    "        review_count INT,\n",
    "        is_open TINYINT,\n",
    "        attributes STRING,\n",
    "        categories STRING,\n",
    "        hours STRING\n",
    "    ''',\n",
    "    rescueddatacolumn => \"_rescued_data\"\n",
    ")\n",
    "WHERE _metadata.file_modification_time > (SELECT MAX(file_modification_time) FROM yelp_business_bronze);\n",
    "\n",
    "SELECT COUNT(*) FROM yelp_business_json_string_bronze;"
   ]
  },
  {
   "cell_type": "markdown",
   "metadata": {
    "application/vnd.databricks.v1+cell": {
     "cellMetadata": {},
     "inputWidgets": {},
     "nuid": "ced40245-11a9-462d-a19f-1c84e18c0ff0",
     "showTitle": false,
     "tableResultSettingsMap": {},
     "title": ""
    }
   },
   "source": [
    "Load JSON data as struct."
   ]
  },
  {
   "cell_type": "code",
   "execution_count": 0,
   "metadata": {
    "application/vnd.databricks.v1+cell": {
     "cellMetadata": {
      "byteLimit": 2048000,
      "implicitDf": true,
      "rowLimit": 10000
     },
     "inputWidgets": {},
     "nuid": "f9364c3f-690b-4e8e-b8a0-aed41cd48af2",
     "showTitle": false,
     "tableResultSettingsMap": {},
     "title": ""
    }
   },
   "outputs": [],
   "source": [
    "%sql\n",
    "INSERT INTO yelp_business_bronze (business_id, name, address, city, state, postal_code, latitude, longitude, stars, review_count, is_open, attributes, categories, _rescued_data, file_modification_time, file_name, hours_json)\n",
    "SELECT \n",
    "  * \n",
    "  EXCEPT(hours),\n",
    "  from_json(hours, 'STRUCT<Friday: STRING, Monday: STRING, Saturday: STRING, Sunday: STRING, Thursday: STRING, Tuesday: STRING, Wednesday: STRING>') AS hours_json\n",
    "FROM yelp_business_json_string_bronze;"
   ]
  },
  {
   "cell_type": "code",
   "execution_count": 0,
   "metadata": {
    "application/vnd.databricks.v1+cell": {
     "cellMetadata": {
      "byteLimit": 2048000,
      "implicitDf": true,
      "rowLimit": 10000
     },
     "inputWidgets": {},
     "nuid": "cec993fd-a50b-43ce-9392-8c9a5c74735d",
     "showTitle": false,
     "tableResultSettingsMap": {},
     "title": ""
    }
   },
   "outputs": [],
   "source": [
    "%sql\n",
    "SELECT file_name, COUNT(*) amount_per_file FROM yelp_business_bronze GROUP BY file_name ORDER BY file_name;"
   ]
  },
  {
   "cell_type": "markdown",
   "metadata": {
    "application/vnd.databricks.v1+cell": {
     "cellMetadata": {},
     "inputWidgets": {},
     "nuid": "32ebea7c-c3d1-4dde-8cad-c7c788b8b3d7",
     "showTitle": false,
     "tableResultSettingsMap": {},
     "title": ""
    }
   },
   "source": [
    "Remove string json delta table"
   ]
  },
  {
   "cell_type": "code",
   "execution_count": 0,
   "metadata": {
    "application/vnd.databricks.v1+cell": {
     "cellMetadata": {
      "byteLimit": 2048000,
      "implicitDf": true,
      "rowLimit": 10000
     },
     "inputWidgets": {},
     "nuid": "49375cfd-b15d-48da-8e1a-e1244bbe9225",
     "showTitle": false,
     "tableResultSettingsMap": {},
     "title": ""
    }
   },
   "outputs": [],
   "source": [
    "%sql\n",
    "DROP TABLE IF EXISTS yelp_business_json_string_bronze;"
   ]
  },
  {
   "cell_type": "markdown",
   "metadata": {
    "application/vnd.databricks.v1+cell": {
     "cellMetadata": {},
     "inputWidgets": {},
     "nuid": "940f7652-c929-4277-b05d-e56dc4d0c149",
     "showTitle": false,
     "tableResultSettingsMap": {},
     "title": ""
    }
   },
   "source": [
    "##### Checkin"
   ]
  },
  {
   "cell_type": "code",
   "execution_count": 0,
   "metadata": {
    "application/vnd.databricks.v1+cell": {
     "cellMetadata": {
      "byteLimit": 2048000,
      "implicitDf": true,
      "rowLimit": 10000
     },
     "inputWidgets": {},
     "nuid": "92473a1d-ddb5-4058-b825-8068b2f640e8",
     "showTitle": false,
     "tableResultSettingsMap": {},
     "title": ""
    }
   },
   "outputs": [],
   "source": [
    "%sql\n",
    "SELECT file_name, COUNT(*) amount_per_file FROM yelp_checkin_bronze GROUP BY file_name ORDER BY file_name;"
   ]
  },
  {
   "cell_type": "code",
   "execution_count": 0,
   "metadata": {
    "application/vnd.databricks.v1+cell": {
     "cellMetadata": {
      "byteLimit": 2048000,
      "implicitDf": true,
      "rowLimit": 10000
     },
     "inputWidgets": {},
     "nuid": "2a2bda3e-ebe7-4086-a357-eb0e5b97f384",
     "showTitle": false,
     "tableResultSettingsMap": {},
     "title": ""
    }
   },
   "outputs": [],
   "source": [
    "%sql\n",
    "INSERT INTO yelp_checkin_bronze (business_id, date, _rescued_data, file_modification_time, file_name)\n",
    "SELECT\n",
    "    *,\n",
    "    _metadata.file_modification_time,\n",
    "    _metadata.file_name\n",
    "FROM read_files(\n",
    "    \"/Volumes/training_catalog/yelp_db/training_files/*checkin*\",\n",
    "    FORMAT => \"JSON\",\n",
    "    HEADER => TRUE,\n",
    "    SCHEMA => '''\n",
    "        business_id STRING,\n",
    "        date STRING\n",
    "    ''',\n",
    "    rescueddatacolumn => \"_rescued_data\"\n",
    ")\n",
    "WHERE _metadata.file_modification_time > (SELECT MAX(file_modification_time) FROM yelp_checkin_bronze);"
   ]
  },
  {
   "cell_type": "code",
   "execution_count": 0,
   "metadata": {
    "application/vnd.databricks.v1+cell": {
     "cellMetadata": {
      "byteLimit": 2048000,
      "implicitDf": true,
      "rowLimit": 10000
     },
     "inputWidgets": {},
     "nuid": "9a5ef5d6-e6e7-47dc-ade5-2f10efe0f270",
     "showTitle": false,
     "tableResultSettingsMap": {
      "0": {
       "dataGridStateBlob": "{\"version\":1,\"tableState\":{\"columnPinning\":{\"left\":[\"#row_number#\"],\"right\":[]},\"columnSizing\":{\"file_name\":333},\"columnVisibility\":{}},\"settings\":{\"columns\":{}},\"syncTimestamp\":1754255183144}",
       "filterBlob": null,
       "queryPlanFiltersBlob": null,
       "tableResultIndex": 0
      }
     },
     "title": ""
    }
   },
   "outputs": [],
   "source": [
    "%sql\n",
    "SELECT file_name, COUNT(*) amount_per_file FROM yelp_checkin_bronze GROUP BY file_name ORDER BY file_name;"
   ]
  },
  {
   "cell_type": "markdown",
   "metadata": {
    "application/vnd.databricks.v1+cell": {
     "cellMetadata": {},
     "inputWidgets": {},
     "nuid": "590a6342-a60f-4a6b-b8b7-03158b505aad",
     "showTitle": false,
     "tableResultSettingsMap": {},
     "title": ""
    }
   },
   "source": [
    "##### Tip"
   ]
  },
  {
   "cell_type": "code",
   "execution_count": 0,
   "metadata": {
    "application/vnd.databricks.v1+cell": {
     "cellMetadata": {
      "byteLimit": 2048000,
      "implicitDf": true,
      "rowLimit": 10000
     },
     "inputWidgets": {},
     "nuid": "048b89a6-d920-45a1-9651-94cd1c62ecbc",
     "showTitle": false,
     "tableResultSettingsMap": {
      "0": {
       "dataGridStateBlob": "{\"version\":1,\"tableState\":{\"columnPinning\":{\"left\":[\"#row_number#\"],\"right\":[]},\"columnSizing\":{\"file_name\":329},\"columnVisibility\":{}},\"settings\":{\"columns\":{}},\"syncTimestamp\":1754257363185}",
       "filterBlob": null,
       "queryPlanFiltersBlob": null,
       "tableResultIndex": 0
      }
     },
     "title": ""
    }
   },
   "outputs": [],
   "source": [
    "%sql\n",
    "SELECT file_name, COUNT(*) amount_per_file FROM yelp_tip_bronze GROUP BY file_name ORDER BY file_name;"
   ]
  },
  {
   "cell_type": "code",
   "execution_count": 0,
   "metadata": {
    "application/vnd.databricks.v1+cell": {
     "cellMetadata": {
      "byteLimit": 2048000,
      "implicitDf": true,
      "rowLimit": 10000
     },
     "inputWidgets": {},
     "nuid": "9059a4b2-e22f-4895-8582-6a3119063e94",
     "showTitle": false,
     "tableResultSettingsMap": {
      "0": {
       "dataGridStateBlob": "{\"version\":1,\"tableState\":{\"columnPinning\":{\"left\":[\"#row_number#\"],\"right\":[]},\"columnSizing\":{\"date\":206},\"columnVisibility\":{}},\"settings\":{\"columns\":{}},\"syncTimestamp\":1754253989232}",
       "filterBlob": null,
       "queryPlanFiltersBlob": null,
       "tableResultIndex": 0
      }
     },
     "title": ""
    }
   },
   "outputs": [],
   "source": [
    "%sql\n",
    "INSERT INTO yelp_tip_bronze (user_id, business_id, text, date, compliment_count, _rescued_data, file_modification_time, file_name)\n",
    "SELECT\n",
    "  *,\n",
    "  _metadata.file_modification_time,\n",
    "  _metadata.file_name\n",
    "FROM read_files(\n",
    "    \"/Volumes/training_catalog/yelp_db/training_files/*tip*\",\n",
    "    FORMAT => \"JSON\",\n",
    "    HEADER => TRUE,\n",
    "    SCHEMA => '''\n",
    "        user_id STRING,\n",
    "        business_id STRING,\n",
    "        text STRING,\n",
    "        date TIMESTAMP,\n",
    "        compliment_count INT\n",
    "    ''',\n",
    "    rescueddatacolumn => \"_rescued_data\"\n",
    ")\n",
    "WHERE _metadata.file_modification_time > (SELECT MAX(file_modification_time) FROM yelp_tip_bronze);"
   ]
  },
  {
   "cell_type": "code",
   "execution_count": 0,
   "metadata": {
    "application/vnd.databricks.v1+cell": {
     "cellMetadata": {
      "byteLimit": 2048000,
      "implicitDf": true,
      "rowLimit": 10000
     },
     "inputWidgets": {},
     "nuid": "d46296c9-e4fd-4509-bbfe-4d7288050e61",
     "showTitle": false,
     "tableResultSettingsMap": {
      "0": {
       "dataGridStateBlob": "{\"version\":1,\"tableState\":{\"columnPinning\":{\"left\":[\"#row_number#\"],\"right\":[]},\"columnSizing\":{\"file_name\":302},\"columnVisibility\":{}},\"settings\":{\"columns\":{}},\"syncTimestamp\":1754257683999}",
       "filterBlob": null,
       "queryPlanFiltersBlob": null,
       "tableResultIndex": 0
      }
     },
     "title": ""
    }
   },
   "outputs": [],
   "source": [
    "%sql\n",
    "SELECT file_name, COUNT(*) amount_per_file FROM yelp_tip_bronze GROUP BY file_name ORDER BY file_name;"
   ]
  },
  {
   "cell_type": "markdown",
   "metadata": {
    "application/vnd.databricks.v1+cell": {
     "cellMetadata": {},
     "inputWidgets": {},
     "nuid": "5cc44439-d7f7-44b7-98c9-7c20999e7fbc",
     "showTitle": false,
     "tableResultSettingsMap": {},
     "title": ""
    }
   },
   "source": [
    "##### Review"
   ]
  },
  {
   "cell_type": "code",
   "execution_count": 0,
   "metadata": {
    "application/vnd.databricks.v1+cell": {
     "cellMetadata": {
      "byteLimit": 2048000,
      "implicitDf": true,
      "rowLimit": 10000
     },
     "inputWidgets": {},
     "nuid": "29edc299-25a4-425c-8ed2-c89bf5695804",
     "showTitle": false,
     "tableResultSettingsMap": {},
     "title": ""
    }
   },
   "outputs": [],
   "source": [
    "%sql\n",
    "SELECT file_name, COUNT(*) amount_per_file FROM yelp_review_bronze GROUP BY file_name ORDER BY file_name;"
   ]
  },
  {
   "cell_type": "code",
   "execution_count": 0,
   "metadata": {
    "application/vnd.databricks.v1+cell": {
     "cellMetadata": {
      "byteLimit": 2048000,
      "implicitDf": true,
      "rowLimit": 10000
     },
     "inputWidgets": {},
     "nuid": "bc1b2276-8e73-4021-a77b-ea3dee38ff45",
     "showTitle": false,
     "tableResultSettingsMap": {},
     "title": ""
    }
   },
   "outputs": [],
   "source": [
    "%sql\n",
    "INSERT INTO yelp_review_bronze (review_id, user_id, business_id, stars, useful, funny, cool, text, date, _rescued_data, file_modification_time, file_name)\n",
    "SELECT\n",
    "  *,\n",
    "  _metadata.file_modification_time,\n",
    "  _metadata.file_name\n",
    "FROM read_files(\n",
    "    \"/Volumes/training_catalog/yelp_db/training_files/*review*\",\n",
    "    FORMAT => \"JSON\",\n",
    "    HEADER => TRUE,\n",
    "    SCHEMA => '''\n",
    "        review_id STRING,\n",
    "        user_id STRING,\n",
    "        business_id STRING,\n",
    "        stars DOUBLE,\n",
    "        useful INT,\n",
    "        funny INT,\n",
    "        cool INT,\n",
    "        text STRING,\n",
    "        date TIMESTAMP\n",
    "    ''',\n",
    "    rescueddatacolumn => \"_rescued_data\"\n",
    ")\n",
    "WHERE _metadata.file_modification_time > (SELECT MAX(file_modification_time) FROM yelp_review_bronze);"
   ]
  },
  {
   "cell_type": "code",
   "execution_count": 0,
   "metadata": {
    "application/vnd.databricks.v1+cell": {
     "cellMetadata": {
      "byteLimit": 2048000,
      "implicitDf": true,
      "rowLimit": 10000
     },
     "inputWidgets": {},
     "nuid": "da6f2978-978b-42de-b29d-3106d236ebba",
     "showTitle": false,
     "tableResultSettingsMap": {
      "0": {
       "dataGridStateBlob": "{\"version\":1,\"tableState\":{\"columnPinning\":{\"left\":[\"#row_number#\"],\"right\":[]},\"columnSizing\":{\"file_name\":306},\"columnVisibility\":{}},\"settings\":{\"columns\":{}},\"syncTimestamp\":1754258030498}",
       "filterBlob": null,
       "queryPlanFiltersBlob": null,
       "tableResultIndex": 0
      }
     },
     "title": ""
    }
   },
   "outputs": [],
   "source": [
    "%sql\n",
    "SELECT file_name, COUNT(*) amount_per_file FROM yelp_review_bronze GROUP BY file_name ORDER BY file_name;"
   ]
  },
  {
   "cell_type": "markdown",
   "metadata": {
    "application/vnd.databricks.v1+cell": {
     "cellMetadata": {},
     "inputWidgets": {},
     "nuid": "cd68dfb6-18d8-4bca-8b3d-32fedfb26bb2",
     "showTitle": false,
     "tableResultSettingsMap": {},
     "title": ""
    }
   },
   "source": [
    "##### User"
   ]
  },
  {
   "cell_type": "code",
   "execution_count": 0,
   "metadata": {
    "application/vnd.databricks.v1+cell": {
     "cellMetadata": {
      "byteLimit": 2048000,
      "implicitDf": true,
      "rowLimit": 10000
     },
     "inputWidgets": {},
     "nuid": "10c5a9b8-9592-44a3-8dde-47320c49bfe2",
     "showTitle": false,
     "tableResultSettingsMap": {},
     "title": ""
    }
   },
   "outputs": [],
   "source": [
    "%sql\n",
    "SELECT file_name, COUNT(*) amount_per_file FROM yelp_user_bronze GROUP BY file_name ORDER BY file_name;"
   ]
  },
  {
   "cell_type": "code",
   "execution_count": 0,
   "metadata": {
    "application/vnd.databricks.v1+cell": {
     "cellMetadata": {
      "byteLimit": 2048000,
      "implicitDf": true,
      "rowLimit": 10000
     },
     "inputWidgets": {},
     "nuid": "e39223c6-1a7c-4513-b110-b16d0b92358f",
     "showTitle": false,
     "tableResultSettingsMap": {},
     "title": ""
    }
   },
   "outputs": [],
   "source": [
    "%sql\n",
    "INSERT INTO yelp_user_bronze (user_id, name, review_count, yelping_since, useful, funny, cool, elite, friends, fans, average_stars, compliment_hot, compliment_more, compliment_profile, compliment_cute, compliment_list, compliment_note, compliment_plain, compliment_cool, compliment_funny, compliment_writer, compliment_photos, _rescued_data, file_modification_time, file_name)\n",
    "SELECT\n",
    "  *,\n",
    "  _metadata.file_modification_time,\n",
    "  _metadata.file_name\n",
    "FROM read_files(\n",
    "    \"/Volumes/training_catalog/yelp_db/training_files/*user*\",\n",
    "    FORMAT => \"JSON\",\n",
    "    HEADER => TRUE,\n",
    "    SCHEMA => '''\n",
    "        user_id STRING,\n",
    "        name STRING,\n",
    "        review_count INT,\n",
    "        yelping_since TIMESTAMP,\n",
    "        useful INT,\n",
    "        funny INT,\n",
    "        cool INT,\n",
    "        elite STRING,\n",
    "        friends STRING,\n",
    "        fans INT,\n",
    "        average_stars DOUBLE,\n",
    "        compliment_hot INT,\n",
    "        compliment_more INT,\n",
    "        compliment_profile INT,\n",
    "        compliment_cute INT,\n",
    "        compliment_list INT,\n",
    "        compliment_note INT,\n",
    "        compliment_plain INT,\n",
    "        compliment_cool INT,\n",
    "        compliment_funny INT,\n",
    "        compliment_writer INT,\n",
    "        compliment_photos INT\n",
    "    ''',\n",
    "    rescueddatacolumn => \"_rescued_data\"\n",
    ")\n",
    "WHERE _metadata.file_modification_time > (SELECT MAX(file_modification_time) FROM yelp_user_bronze);"
   ]
  },
  {
   "cell_type": "code",
   "execution_count": 0,
   "metadata": {
    "application/vnd.databricks.v1+cell": {
     "cellMetadata": {
      "byteLimit": 2048000,
      "implicitDf": true,
      "rowLimit": 10000
     },
     "inputWidgets": {},
     "nuid": "9e01b8f4-ae7f-489f-b651-5065e73a6208",
     "showTitle": false,
     "tableResultSettingsMap": {
      "0": {
       "dataGridStateBlob": "{\"version\":1,\"tableState\":{\"columnPinning\":{\"left\":[\"#row_number#\"],\"right\":[]},\"columnSizing\":{\"file_name\":270},\"columnVisibility\":{}},\"settings\":{\"columns\":{}},\"syncTimestamp\":1754258383207}",
       "filterBlob": null,
       "queryPlanFiltersBlob": null,
       "tableResultIndex": 0
      }
     },
     "title": ""
    }
   },
   "outputs": [],
   "source": [
    "%sql\n",
    "SELECT file_name, COUNT(*) amount_per_file FROM yelp_user_bronze GROUP BY file_name ORDER BY file_name;"
   ]
  },
  {
   "cell_type": "code",
   "execution_count": 0,
   "metadata": {
    "application/vnd.databricks.v1+cell": {
     "cellMetadata": {},
     "inputWidgets": {},
     "nuid": "0d3dd65e-31cd-483f-baf8-c0f205cfeb28",
     "showTitle": false,
     "tableResultSettingsMap": {},
     "title": ""
    }
   },
   "outputs": [],
   "source": []
  }
 ],
 "metadata": {
  "application/vnd.databricks.v1+notebook": {
   "computePreferences": null,
   "dashboards": [],
   "environmentMetadata": {
    "base_environment": "",
    "environment_version": "2"
   },
   "inputWidgetPreferences": null,
   "language": "python",
   "notebookMetadata": {
    "mostRecentlyExecutedCommandWithImplicitDF": {
     "commandId": 6120682213767475,
     "dataframes": [
      "_sqldf"
     ]
    },
    "pythonIndentUnit": 4
   },
   "notebookName": "2_data_ingestion_process_bronze_layer",
   "widgets": {}
  },
  "language_info": {
   "name": "python"
  }
 },
 "nbformat": 4,
 "nbformat_minor": 0
}

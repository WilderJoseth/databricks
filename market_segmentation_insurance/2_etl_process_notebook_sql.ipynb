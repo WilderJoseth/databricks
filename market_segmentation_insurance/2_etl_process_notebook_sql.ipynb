{
 "cells": [
  {
   "cell_type": "markdown",
   "metadata": {
    "application/vnd.databricks.v1+cell": {
     "cellMetadata": {},
     "inputWidgets": {},
     "nuid": "aece8f9c-a609-445d-9e8b-c293369cceba",
     "showTitle": false,
     "tableResultSettingsMap": {},
     "title": ""
    }
   },
   "source": [
    "# Market segmentation insurance\n",
    "## ETL process"
   ]
  },
  {
   "cell_type": "markdown",
   "metadata": {
    "application/vnd.databricks.v1+cell": {
     "cellMetadata": {},
     "inputWidgets": {},
     "nuid": "5a19d752-91e2-44e3-88b2-3ac43651a7a8",
     "showTitle": false,
     "tableResultSettingsMap": {},
     "title": ""
    }
   },
   "source": [
    "## 1. Introduction\n",
    "\n",
    "The purpose of this notebook is to create ETL process, which takes raw data and transform it to useful data."
   ]
  },
  {
   "cell_type": "markdown",
   "metadata": {
    "application/vnd.databricks.v1+cell": {
     "cellMetadata": {},
     "inputWidgets": {},
     "nuid": "407d2eba-bb9e-4047-ab24-38fca49cd5de",
     "showTitle": false,
     "tableResultSettingsMap": {},
     "title": ""
    }
   },
   "source": [
    "## 2. Data information\n",
    "\n",
    "This dataset summarizes the usage behavior of about 9000 active credit cardholders during the last 6 months.\n",
    "\n",
    "Features:\n",
    "\n",
    "* Cust ID\n",
    "* Balance\n",
    "* Balance Frequency\n",
    "* Purchases\n",
    "* One-off Purchases\n",
    "* Installment Purchases\n",
    "* Cash Advance\n",
    "* Purchases Frequency\n",
    "* One-off Purchases Frequency\n",
    "* Purchases Installments Frequency\n",
    "* Cash Advance Frequency\n",
    "* Cash Advance TRX\n",
    "* Purchases TRX\n",
    "* Credit Limit\n",
    "* Payments\n",
    "* Minimum Payments\n",
    "* PRC Full payment\n",
    "* Tenure\n",
    "\n",
    "Link: https://www.kaggle.com/datasets/jillanisofttech/market-segmentation-in-insurance-unsupervised/data"
   ]
  },
  {
   "cell_type": "markdown",
   "metadata": {
    "application/vnd.databricks.v1+cell": {
     "cellMetadata": {},
     "inputWidgets": {},
     "nuid": "f1fe6120-193f-4b80-bca1-7c3e8789a9da",
     "showTitle": false,
     "tableResultSettingsMap": {},
     "title": ""
    }
   },
   "source": [
    "## 3. ETL process"
   ]
  },
  {
   "cell_type": "markdown",
   "metadata": {
    "application/vnd.databricks.v1+cell": {
     "cellMetadata": {},
     "inputWidgets": {},
     "nuid": "9fa08989-db51-4415-8541-0c9c55ecf896",
     "showTitle": false,
     "tableResultSettingsMap": {},
     "title": ""
    }
   },
   "source": [
    "Set catalog and schema"
   ]
  },
  {
   "cell_type": "code",
   "execution_count": 0,
   "metadata": {
    "application/vnd.databricks.v1+cell": {
     "cellMetadata": {
      "byteLimit": 2048000,
      "implicitDf": true,
      "rowLimit": 10000
     },
     "inputWidgets": {},
     "nuid": "52e7f18b-c683-436b-a5bb-9a08aab4468c",
     "showTitle": false,
     "tableResultSettingsMap": {},
     "title": ""
    }
   },
   "outputs": [],
   "source": [
    "%sql\n",
    "USE CATALOG training_catalog;"
   ]
  },
  {
   "cell_type": "code",
   "execution_count": 0,
   "metadata": {
    "application/vnd.databricks.v1+cell": {
     "cellMetadata": {
      "byteLimit": 2048000,
      "implicitDf": true,
      "rowLimit": 10000
     },
     "inputWidgets": {},
     "nuid": "fe1089fc-b591-409f-9610-c3bfd3c23c54",
     "showTitle": false,
     "tableResultSettingsMap": {},
     "title": ""
    }
   },
   "outputs": [],
   "source": [
    "\n",
    "%sql\n",
    "USE SCHEMA market_segmentation_insurance_db;"
   ]
  },
  {
   "cell_type": "code",
   "execution_count": 0,
   "metadata": {
    "application/vnd.databricks.v1+cell": {
     "cellMetadata": {
      "byteLimit": 2048000,
      "implicitDf": true,
      "rowLimit": 10000
     },
     "inputWidgets": {},
     "nuid": "08b4cd5c-d874-46cf-b9f7-c3c3ffd99aba",
     "showTitle": false,
     "tableResultSettingsMap": {},
     "title": ""
    }
   },
   "outputs": [],
   "source": [
    "%sql\n",
    "SHOW TABLES;"
   ]
  },
  {
   "cell_type": "markdown",
   "metadata": {
    "application/vnd.databricks.v1+cell": {
     "cellMetadata": {},
     "inputWidgets": {},
     "nuid": "7c460ff9-210a-430c-bec0-25302969c8ab",
     "showTitle": false,
     "tableResultSettingsMap": {},
     "title": ""
    }
   },
   "source": [
    "### 3.1. Extract\n",
    "\n",
    "This step saves raw data into a raw_data delta table. This step also performs BRONZE part of ETL process."
   ]
  },
  {
   "cell_type": "markdown",
   "metadata": {
    "application/vnd.databricks.v1+cell": {
     "cellMetadata": {},
     "inputWidgets": {},
     "nuid": "f9fe1db5-b32b-4b55-a93f-430ae1443413",
     "showTitle": false,
     "tableResultSettingsMap": {},
     "title": ""
    }
   },
   "source": [
    "Verify data"
   ]
  },
  {
   "cell_type": "code",
   "execution_count": 0,
   "metadata": {
    "application/vnd.databricks.v1+cell": {
     "cellMetadata": {
      "byteLimit": 2048000,
      "implicitDf": true,
      "rowLimit": 10000
     },
     "inputWidgets": {},
     "nuid": "81cb4e07-9821-4f3a-b255-764bd5c34747",
     "showTitle": false,
     "tableResultSettingsMap": {},
     "title": ""
    }
   },
   "outputs": [],
   "source": [
    "%sql\n",
    "SELECT *\n",
    "FROM read_files(\n",
    "  \"/Volumes/training_catalog/market_segmentation_insurance_db/training_files/\",\n",
    "  format => \"csv\",\n",
    "  header => true,\n",
    "  inferSchema => true\n",
    ") LIMIT 5;"
   ]
  },
  {
   "cell_type": "markdown",
   "metadata": {
    "application/vnd.databricks.v1+cell": {
     "cellMetadata": {},
     "inputWidgets": {},
     "nuid": "875ae25c-9210-481c-8968-e24bf40cbe4a",
     "showTitle": false,
     "tableResultSettingsMap": {},
     "title": ""
    }
   },
   "source": [
    "Load data into raw_data table"
   ]
  },
  {
   "cell_type": "code",
   "execution_count": 0,
   "metadata": {
    "application/vnd.databricks.v1+cell": {
     "cellMetadata": {
      "byteLimit": 2048000,
      "rowLimit": 10000
     },
     "inputWidgets": {},
     "nuid": "9a78b3f5-c1d5-492e-ba3e-7c6580e27112",
     "showTitle": false,
     "tableResultSettingsMap": {},
     "title": ""
    }
   },
   "outputs": [],
   "source": [
    "spark.sql('''\n",
    "          COPY INTO raw_data\n",
    "          FROM \"/Volumes/training_catalog/market_segmentation_insurance_db/training_files/\"\n",
    "          FILEFORMAT = CSV\n",
    "          FORMAT_OPTIONS (\n",
    "            \"header\" = \"true\",\n",
    "            \"inferSchema\" = \"false\" -- Use schema defined during table creation\n",
    "          )\n",
    "          ''').display()"
   ]
  },
  {
   "cell_type": "code",
   "execution_count": 0,
   "metadata": {
    "application/vnd.databricks.v1+cell": {
     "cellMetadata": {
      "byteLimit": 2048000,
      "implicitDf": true,
      "rowLimit": 10000
     },
     "inputWidgets": {},
     "nuid": "0a8795f8-7a84-46a1-9d75-76ec33d797c0",
     "showTitle": false,
     "tableResultSettingsMap": {},
     "title": ""
    }
   },
   "outputs": [],
   "source": [
    "%sql\n",
    "SELECT * FROM raw_data LIMIT 5;"
   ]
  },
  {
   "cell_type": "code",
   "execution_count": 0,
   "metadata": {
    "application/vnd.databricks.v1+cell": {
     "cellMetadata": {
      "byteLimit": 2048000,
      "implicitDf": true,
      "rowLimit": 10000
     },
     "inputWidgets": {},
     "nuid": "280b911b-4ade-488c-9bf0-bd0c71dbb524",
     "showTitle": false,
     "tableResultSettingsMap": {},
     "title": ""
    }
   },
   "outputs": [],
   "source": [
    "%sql\n",
    "SELECT COUNT(*) FROM raw_data;"
   ]
  },
  {
   "cell_type": "markdown",
   "metadata": {
    "application/vnd.databricks.v1+cell": {
     "cellMetadata": {},
     "inputWidgets": {},
     "nuid": "601ea23c-d267-48ab-a02c-bb5db1dc09b5",
     "showTitle": false,
     "tableResultSettingsMap": {},
     "title": ""
    }
   },
   "source": [
    "### 3.2. Transform\n",
    "\n",
    "This process focuses on validating and transforming data in order to get it done to be used for other process. At the end, the goal is to create SILVER and GOLD tables."
   ]
  },
  {
   "cell_type": "markdown",
   "metadata": {
    "application/vnd.databricks.v1+cell": {
     "cellMetadata": {},
     "inputWidgets": {},
     "nuid": "56079ec1-5931-4ab8-a1ae-83040f23d229",
     "showTitle": false,
     "tableResultSettingsMap": {},
     "title": ""
    }
   },
   "source": [
    "#### 3.2.1. Data profiling"
   ]
  },
  {
   "cell_type": "markdown",
   "metadata": {
    "application/vnd.databricks.v1+cell": {
     "cellMetadata": {},
     "inputWidgets": {},
     "nuid": "b014a47b-ef97-43de-9d6d-4dd80229b186",
     "showTitle": false,
     "tableResultSettingsMap": {},
     "title": ""
    }
   },
   "source": [
    "##### 3.2.1.1. Identify missing values"
   ]
  },
  {
   "cell_type": "code",
   "execution_count": 0,
   "metadata": {
    "application/vnd.databricks.v1+cell": {
     "cellMetadata": {
      "byteLimit": 2048000,
      "implicitDf": true,
      "rowLimit": 10000
     },
     "inputWidgets": {},
     "nuid": "c298c0b7-46ad-4eb1-b205-cbfec0854d29",
     "showTitle": false,
     "tableResultSettingsMap": {},
     "title": ""
    }
   },
   "outputs": [],
   "source": [
    "%sql\n",
    "SELECT column_name, missing_count\n",
    "FROM (\n",
    "  SELECT\n",
    "    COUNT(CASE WHEN balance IS NULL OR TRIM(balance) = '' THEN 1 END) AS missing_balance,\n",
    "    COUNT(CASE WHEN balance_frequency IS NULL OR TRIM(balance_frequency) = '' THEN 1 END) AS missing_balance_frequency,\n",
    "    COUNT(CASE WHEN purchases IS NULL OR TRIM(purchases) = '' THEN 1 END) AS missing_purchases,\n",
    "    COUNT(CASE WHEN oneoff_purchases IS NULL OR TRIM(oneoff_purchases) = '' THEN 1 END) AS missing_oneoff_purchases,\n",
    "    COUNT(CASE WHEN installments_purchases IS NULL OR TRIM(installments_purchases) = '' THEN 1 END) AS missing_installments_purchases,\n",
    "    COUNT(CASE WHEN cash_advance IS NULL OR TRIM(cash_advance) = '' THEN 1 END) AS missing_cash_advance,\n",
    "    COUNT(CASE WHEN purchases_frequency IS NULL OR TRIM(purchases_frequency) = '' THEN 1 END) AS missing_purchases_frequency,\n",
    "    COUNT(CASE WHEN oneoff_purchases_frequency IS NULL OR TRIM(oneoff_purchases_frequency) = '' THEN 1 END) AS missing_oneoff_purchases_frequency,\n",
    "    COUNT(CASE WHEN purchases_installments_frequency IS NULL OR TRIM(purchases_installments_frequency) = '' THEN 1 END) AS missing_purchases_installments_frequency,\n",
    "    COUNT(CASE WHEN cash_advance_frequency IS NULL OR TRIM(cash_advance_frequency) = '' THEN 1 END) AS missing_cash_advance_frequency,\n",
    "    COUNT(CASE WHEN cash_advance_trx IS NULL OR TRIM(cash_advance_trx) = '' THEN 1 END) AS missing_cash_advance_trx,\n",
    "    COUNT(CASE WHEN purchases_trx IS NULL OR TRIM(purchases_trx) = '' THEN 1 END) AS missing_purchases_trx,\n",
    "    COUNT(CASE WHEN credit_limit IS NULL OR TRIM(credit_limit) = '' THEN 1 END) AS missing_credit_limit,\n",
    "    COUNT(CASE WHEN payments IS NULL OR TRIM(payments) = '' THEN 1 END) AS missing_payments,\n",
    "    COUNT(CASE WHEN minimum_payments IS NULL OR TRIM(minimum_payments) = '' THEN 1 END) AS missing_minimum_payments,\n",
    "    COUNT(CASE WHEN prc_full_payment IS NULL OR TRIM(prc_full_payment) = '' THEN 1 END) AS missing_prc_full_payment,\n",
    "    COUNT(CASE WHEN tenure IS NULL OR TRIM(tenure) = '' THEN 1 END) AS missing_tenure\n",
    "  FROM raw_data\n",
    ") t\n",
    "LATERAL VIEW STACK(17,\n",
    "  'balance', missing_balance,\n",
    "  'balance_frequency', missing_balance_frequency,\n",
    "  'purchases', missing_purchases,\n",
    "  'oneoff_purchases', missing_oneoff_purchases,\n",
    "  'installments_purchases', missing_installments_purchases,\n",
    "  'cash_advance', missing_cash_advance,\n",
    "  'purchases_frequency', missing_purchases_frequency,\n",
    "  'oneoff_purchases_frequency', missing_oneoff_purchases_frequency,\n",
    "  'purchases_installments_frequency', missing_purchases_installments_frequency,\n",
    "  'cash_advance_frequency', missing_cash_advance_frequency,\n",
    "  'cash_advance_trx', missing_cash_advance_trx,\n",
    "  'purchases_trx', missing_purchases_trx,\n",
    "  'credit_limit', missing_credit_limit,\n",
    "  'payments', missing_payments,\n",
    "  'minimum_payments', missing_minimum_payments,\n",
    "  'prc_full_payment', missing_prc_full_payment,\n",
    "  'tenure', missing_tenure\n",
    ") AS column_name, missing_count;"
   ]
  },
  {
   "cell_type": "markdown",
   "metadata": {
    "application/vnd.databricks.v1+cell": {
     "cellMetadata": {},
     "inputWidgets": {},
     "nuid": "c4acba47-4f92-4785-a437-f01d680d5798",
     "showTitle": false,
     "tableResultSettingsMap": {},
     "title": ""
    }
   },
   "source": [
    "**Conclusion:**\n",
    "\n",
    "* From all variables, only **credit_limit** and **minimum_payments** have missing values. Variable **credit_limit** has 1 and variable **minimum_payments** has 313."
   ]
  },
  {
   "cell_type": "markdown",
   "metadata": {
    "application/vnd.databricks.v1+cell": {
     "cellMetadata": {},
     "inputWidgets": {},
     "nuid": "c72b53db-2aed-4821-961a-362c35b30b20",
     "showTitle": false,
     "tableResultSettingsMap": {},
     "title": ""
    }
   },
   "source": [
    "##### 3.2.1.2. Identify duplicate values"
   ]
  },
  {
   "cell_type": "code",
   "execution_count": 0,
   "metadata": {
    "application/vnd.databricks.v1+cell": {
     "cellMetadata": {
      "byteLimit": 2048000,
      "implicitDf": true,
      "rowLimit": 10000
     },
     "inputWidgets": {},
     "nuid": "b55e413d-0a86-4d62-993a-5c25ea7bb61c",
     "showTitle": false,
     "tableResultSettingsMap": {},
     "title": ""
    }
   },
   "outputs": [],
   "source": [
    "%sql\n",
    "SELECT\n",
    "  balance,\n",
    "  balance_frequency,\n",
    "  purchases,\n",
    "  oneoff_purchases,\n",
    "  installments_purchases,\n",
    "  cash_advance,\n",
    "  purchases_frequency,\n",
    "  oneoff_purchases_frequency,\n",
    "  purchases_installments_frequency,\n",
    "  cash_advance_frequency,\n",
    "  cash_advance_trx,\n",
    "  purchases_trx,\n",
    "  credit_limit,\n",
    "  payments,\n",
    "  minimum_payments,\n",
    "  prc_full_payment,\n",
    "  tenure,\n",
    "  COUNT(*) count_duplicated\n",
    "FROM raw_data\n",
    "GROUP BY\n",
    "  balance,\n",
    "  balance_frequency,\n",
    "  purchases,\n",
    "  oneoff_purchases,\n",
    "  installments_purchases,\n",
    "  cash_advance,\n",
    "  purchases_frequency,\n",
    "  oneoff_purchases_frequency,\n",
    "  purchases_installments_frequency,\n",
    "  cash_advance_frequency,\n",
    "  cash_advance_trx,\n",
    "  purchases_trx,\n",
    "  credit_limit,\n",
    "  payments,\n",
    "  minimum_payments,\n",
    "  prc_full_payment,\n",
    "  tenure\n",
    "HAVING COUNT(*) > 1;"
   ]
  },
  {
   "cell_type": "markdown",
   "metadata": {
    "application/vnd.databricks.v1+cell": {
     "cellMetadata": {},
     "inputWidgets": {},
     "nuid": "3730505f-7a45-4705-843c-8d88896ab4ab",
     "showTitle": false,
     "tableResultSettingsMap": {},
     "title": ""
    }
   },
   "source": [
    "**Conclusion:**\n",
    "\n",
    "* There are no duplicated values."
   ]
  },
  {
   "cell_type": "markdown",
   "metadata": {
    "application/vnd.databricks.v1+cell": {
     "cellMetadata": {},
     "inputWidgets": {},
     "nuid": "d36516dc-1158-4f58-8d34-95481137ecd4",
     "showTitle": false,
     "tableResultSettingsMap": {},
     "title": ""
    }
   },
   "source": [
    "##### 3.2.1.3. Validate data consistency\n",
    "\n",
    "Several columns which could store numeric values were detected, so before applying any numeric transformation, it is important to verify if values are numeric."
   ]
  },
  {
   "cell_type": "code",
   "execution_count": 0,
   "metadata": {
    "application/vnd.databricks.v1+cell": {
     "cellMetadata": {
      "byteLimit": 2048000,
      "implicitDf": true,
      "rowLimit": 10000
     },
     "inputWidgets": {},
     "nuid": "7dee6b8f-b580-467b-8ae2-1f417aeb92b2",
     "showTitle": false,
     "tableResultSettingsMap": {},
     "title": ""
    }
   },
   "outputs": [],
   "source": [
    "%sql\n",
    "SELECT\n",
    "  'balance' AS column_name,\n",
    "  (SELECT COUNT(1) FROM raw_data WHERE NOT REGEXP(balance, '^[0-9]+(\\\\.[0-9]+)?$')) AS count_invalid;"
   ]
  },
  {
   "cell_type": "code",
   "execution_count": 0,
   "metadata": {
    "application/vnd.databricks.v1+cell": {
     "cellMetadata": {
      "byteLimit": 2048000,
      "implicitDf": true,
      "rowLimit": 10000
     },
     "inputWidgets": {},
     "nuid": "5f83e108-4889-4382-9643-3a7cae590445",
     "showTitle": false,
     "tableResultSettingsMap": {},
     "title": ""
    }
   },
   "outputs": [],
   "source": [
    "%sql\n",
    "SELECT\n",
    "  'balance_frequency' AS column_name,\n",
    "  (SELECT COUNT(1) FROM raw_data WHERE NOT REGEXP(balance_frequency, '^[0-9]+(\\\\.[0-9]+)?$')) AS count_invalid;"
   ]
  },
  {
   "cell_type": "code",
   "execution_count": 0,
   "metadata": {
    "application/vnd.databricks.v1+cell": {
     "cellMetadata": {
      "byteLimit": 2048000,
      "implicitDf": true,
      "rowLimit": 10000
     },
     "inputWidgets": {},
     "nuid": "ddfc7650-286f-412a-9ea0-3134aaf2e16d",
     "showTitle": false,
     "tableResultSettingsMap": {},
     "title": ""
    }
   },
   "outputs": [],
   "source": [
    "%sql\n",
    "SELECT\n",
    "  'purchases' AS column_name,\n",
    "  (SELECT COUNT(1) FROM raw_data WHERE NOT REGEXP(purchases, '^[0-9]+(\\\\.[0-9]+)?$')) AS count_invalid;"
   ]
  },
  {
   "cell_type": "code",
   "execution_count": 0,
   "metadata": {
    "application/vnd.databricks.v1+cell": {
     "cellMetadata": {
      "byteLimit": 2048000,
      "implicitDf": true,
      "rowLimit": 10000
     },
     "inputWidgets": {},
     "nuid": "767f6e43-6bfd-48c3-b8cc-fe6323cbab24",
     "showTitle": false,
     "tableResultSettingsMap": {},
     "title": ""
    }
   },
   "outputs": [],
   "source": [
    "%sql\n",
    "SELECT\n",
    "  'oneoff_purchases' AS column_name,\n",
    "  (SELECT COUNT(1) FROM raw_data WHERE NOT REGEXP(oneoff_purchases, '^[0-9]+(\\\\.[0-9]+)?$')) AS count_invalid;"
   ]
  },
  {
   "cell_type": "code",
   "execution_count": 0,
   "metadata": {
    "application/vnd.databricks.v1+cell": {
     "cellMetadata": {
      "byteLimit": 2048000,
      "implicitDf": true,
      "rowLimit": 10000
     },
     "inputWidgets": {},
     "nuid": "65c5f61e-2479-487c-8515-03219f513df4",
     "showTitle": false,
     "tableResultSettingsMap": {},
     "title": ""
    }
   },
   "outputs": [],
   "source": [
    "%sql\n",
    "SELECT\n",
    "  'installments_purchases' AS column_name,\n",
    "  (SELECT COUNT(1) FROM raw_data WHERE NOT REGEXP(installments_purchases, '^[0-9]+(\\\\.[0-9]+)?$')) AS count_invalid;"
   ]
  },
  {
   "cell_type": "code",
   "execution_count": 0,
   "metadata": {
    "application/vnd.databricks.v1+cell": {
     "cellMetadata": {
      "byteLimit": 2048000,
      "implicitDf": true,
      "rowLimit": 10000
     },
     "inputWidgets": {},
     "nuid": "763883a4-807d-4f93-af84-d51c57663cd3",
     "showTitle": false,
     "tableResultSettingsMap": {},
     "title": ""
    }
   },
   "outputs": [],
   "source": [
    "%sql\n",
    "SELECT\n",
    "  'cash_advance' AS column_name,\n",
    "  (SELECT COUNT(1) FROM raw_data WHERE NOT REGEXP(cash_advance, '^[0-9]+(\\\\.[0-9]+)?$')) AS count_invalid;"
   ]
  },
  {
   "cell_type": "code",
   "execution_count": 0,
   "metadata": {
    "application/vnd.databricks.v1+cell": {
     "cellMetadata": {
      "byteLimit": 2048000,
      "implicitDf": true,
      "rowLimit": 10000
     },
     "inputWidgets": {},
     "nuid": "1ae1d8d4-7670-420e-841c-141a9a0e21e8",
     "showTitle": false,
     "tableResultSettingsMap": {},
     "title": ""
    }
   },
   "outputs": [],
   "source": [
    "%sql\n",
    "SELECT\n",
    "  'purchases_frequency' AS column_name,\n",
    "  (SELECT COUNT(1) FROM raw_data WHERE NOT REGEXP(purchases_frequency, '^[0-9]+(\\\\.[0-9]+)?$')) AS count_invalid;"
   ]
  },
  {
   "cell_type": "code",
   "execution_count": 0,
   "metadata": {
    "application/vnd.databricks.v1+cell": {
     "cellMetadata": {
      "byteLimit": 2048000,
      "implicitDf": true,
      "rowLimit": 10000
     },
     "inputWidgets": {},
     "nuid": "abf2f78a-34b8-4fd2-870e-b4709c392042",
     "showTitle": false,
     "tableResultSettingsMap": {},
     "title": ""
    }
   },
   "outputs": [],
   "source": [
    "%sql\n",
    "SELECT\n",
    "  'oneoff_purchases_frequency' AS column_name,\n",
    "  (SELECT COUNT(1) FROM raw_data WHERE NOT REGEXP(oneoff_purchases_frequency, '^[0-9]+(\\\\.[0-9]+)?$')) AS count_invalid;"
   ]
  },
  {
   "cell_type": "code",
   "execution_count": 0,
   "metadata": {
    "application/vnd.databricks.v1+cell": {
     "cellMetadata": {
      "byteLimit": 2048000,
      "implicitDf": true,
      "rowLimit": 10000
     },
     "inputWidgets": {},
     "nuid": "66d16d70-476a-4c02-8f50-13c37db7011d",
     "showTitle": false,
     "tableResultSettingsMap": {},
     "title": ""
    }
   },
   "outputs": [],
   "source": [
    "%sql\n",
    "SELECT\n",
    "  'purchases_installments_frequency' AS column_name,\n",
    "  (SELECT COUNT(1) FROM raw_data WHERE NOT REGEXP(purchases_installments_frequency, '^[0-9]+(\\\\.[0-9]+)?$')) AS count_invalid;"
   ]
  },
  {
   "cell_type": "code",
   "execution_count": 0,
   "metadata": {
    "application/vnd.databricks.v1+cell": {
     "cellMetadata": {
      "byteLimit": 2048000,
      "implicitDf": true,
      "rowLimit": 10000
     },
     "inputWidgets": {},
     "nuid": "8d1f8c7d-4166-4d71-a5b7-0b6261368a53",
     "showTitle": false,
     "tableResultSettingsMap": {},
     "title": ""
    }
   },
   "outputs": [],
   "source": [
    "%sql\n",
    "SELECT\n",
    "  'cash_advance_frequency' AS column_name,\n",
    "  (SELECT COUNT(1) FROM raw_data WHERE NOT REGEXP(cash_advance_frequency, '^[0-9]+(\\\\.[0-9]+)?$')) AS count_invalid;"
   ]
  },
  {
   "cell_type": "code",
   "execution_count": 0,
   "metadata": {
    "application/vnd.databricks.v1+cell": {
     "cellMetadata": {
      "byteLimit": 2048000,
      "implicitDf": true,
      "rowLimit": 10000
     },
     "inputWidgets": {},
     "nuid": "e8cf509d-b1fb-4287-9550-59c6f8c85930",
     "showTitle": false,
     "tableResultSettingsMap": {},
     "title": ""
    }
   },
   "outputs": [],
   "source": [
    "%sql\n",
    "SELECT\n",
    "  'cash_advance_trx' AS column_name,\n",
    "  (SELECT COUNT(1) FROM raw_data WHERE NOT REGEXP(cash_advance_trx, '^[0-9]+(\\\\.[0-9]+)?$')) AS count_invalid;"
   ]
  },
  {
   "cell_type": "code",
   "execution_count": 0,
   "metadata": {
    "application/vnd.databricks.v1+cell": {
     "cellMetadata": {
      "byteLimit": 2048000,
      "implicitDf": true,
      "rowLimit": 10000
     },
     "inputWidgets": {},
     "nuid": "5bdd1716-89f3-44d4-ae9c-ee7b9a5fdfbd",
     "showTitle": false,
     "tableResultSettingsMap": {},
     "title": ""
    }
   },
   "outputs": [],
   "source": [
    "%sql\n",
    "SELECT\n",
    "  'purchases_trx' AS column_name,\n",
    "  (SELECT COUNT(1) FROM raw_data WHERE NOT REGEXP(purchases_trx, '^[0-9]+(\\\\.[0-9]+)?$')) AS count_invalid;"
   ]
  },
  {
   "cell_type": "code",
   "execution_count": 0,
   "metadata": {
    "application/vnd.databricks.v1+cell": {
     "cellMetadata": {
      "byteLimit": 2048000,
      "implicitDf": true,
      "rowLimit": 10000
     },
     "inputWidgets": {},
     "nuid": "bd909884-216b-491e-8434-bd8c439273ee",
     "showTitle": false,
     "tableResultSettingsMap": {},
     "title": ""
    }
   },
   "outputs": [],
   "source": [
    "%sql\n",
    "SELECT\n",
    "  'credit_limit' AS column_name,\n",
    "  (SELECT COUNT(1) FROM raw_data WHERE NOT REGEXP(credit_limit, '^[0-9]+(\\\\.[0-9]+)?$')) AS count_invalid;"
   ]
  },
  {
   "cell_type": "code",
   "execution_count": 0,
   "metadata": {
    "application/vnd.databricks.v1+cell": {
     "cellMetadata": {
      "byteLimit": 2048000,
      "implicitDf": true,
      "rowLimit": 10000
     },
     "inputWidgets": {},
     "nuid": "dca84d4e-61f1-40d0-bbad-99222e41fb8c",
     "showTitle": false,
     "tableResultSettingsMap": {},
     "title": ""
    }
   },
   "outputs": [],
   "source": [
    "%sql\n",
    "SELECT\n",
    "  'minimum_payments' AS column_name,\n",
    "  (SELECT COUNT(1) FROM raw_data WHERE NOT REGEXP(minimum_payments, '^[0-9]+(\\\\.[0-9]+)?$')) AS count_invalid;"
   ]
  },
  {
   "cell_type": "code",
   "execution_count": 0,
   "metadata": {
    "application/vnd.databricks.v1+cell": {
     "cellMetadata": {
      "byteLimit": 2048000,
      "implicitDf": true,
      "rowLimit": 10000
     },
     "inputWidgets": {},
     "nuid": "14f2e985-a24f-4016-b7e5-f5ebaef86efe",
     "showTitle": false,
     "tableResultSettingsMap": {},
     "title": ""
    }
   },
   "outputs": [],
   "source": [
    "%sql\n",
    "SELECT\n",
    "  'prc_full_payment' AS column_name,\n",
    "  (SELECT COUNT(1) FROM raw_data WHERE NOT REGEXP(prc_full_payment, '^[0-9]+(\\\\.[0-9]+)?$')) AS count_invalid;"
   ]
  },
  {
   "cell_type": "markdown",
   "metadata": {
    "application/vnd.databricks.v1+cell": {
     "cellMetadata": {},
     "inputWidgets": {},
     "nuid": "2c2517f5-7f3d-46c8-9dff-7bbb4e832077",
     "showTitle": false,
     "tableResultSettingsMap": {},
     "title": ""
    }
   },
   "source": [
    "**Conclusion:**\n",
    "\n",
    "* All numeric features have no invalid values."
   ]
  },
  {
   "cell_type": "markdown",
   "metadata": {
    "application/vnd.databricks.v1+cell": {
     "cellMetadata": {},
     "inputWidgets": {},
     "nuid": "dbbe3a1f-d3c8-4c8a-9927-f07b04efa03e",
     "showTitle": false,
     "tableResultSettingsMap": {},
     "title": ""
    }
   },
   "source": [
    "#### 3.2.2. Cleaning\n",
    "\n",
    "To perform this process, it is possible to do many tasks in one step (creating view).\n",
    "\n",
    "Tasks:\n",
    "\n",
    "* Update datatype.\n",
    "* Filling missing values.\n",
    "* Remove white spaces."
   ]
  },
  {
   "cell_type": "markdown",
   "metadata": {
    "application/vnd.databricks.v1+cell": {
     "cellMetadata": {},
     "inputWidgets": {},
     "nuid": "cbcea606-faf2-4687-b17e-ab9da00fdfd4",
     "showTitle": false,
     "tableResultSettingsMap": {},
     "title": ""
    }
   },
   "source": [
    "Create view to show median values."
   ]
  },
  {
   "cell_type": "code",
   "execution_count": 0,
   "metadata": {
    "application/vnd.databricks.v1+cell": {
     "cellMetadata": {
      "byteLimit": 2048000,
      "implicitDf": true,
      "rowLimit": 10000
     },
     "inputWidgets": {},
     "nuid": "97794dd9-ecf8-4bb7-88ad-e45acd965164",
     "showTitle": false,
     "tableResultSettingsMap": {},
     "title": ""
    }
   },
   "outputs": [],
   "source": [
    "%sql\n",
    "CREATE OR REPLACE TEMP VIEW data_median_view AS\n",
    "SELECT \n",
    "  percentile_approx(CAST(credit_limit AS DOUBLE), 0.5) AS credit_limit_median,\n",
    "  percentile_approx(CAST(minimum_payments AS DOUBLE), 0.5) AS minimum_payments_median\n",
    "FROM raw_data;"
   ]
  },
  {
   "cell_type": "code",
   "execution_count": 0,
   "metadata": {
    "application/vnd.databricks.v1+cell": {
     "cellMetadata": {
      "byteLimit": 2048000,
      "implicitDf": true,
      "rowLimit": 10000
     },
     "inputWidgets": {},
     "nuid": "89ef78ab-e91c-4334-931a-ae08c4a45b46",
     "showTitle": false,
     "tableResultSettingsMap": {},
     "title": ""
    }
   },
   "outputs": [],
   "source": [
    "%sql\n",
    "SELECT * FROM data_median_view;"
   ]
  },
  {
   "cell_type": "markdown",
   "metadata": {
    "application/vnd.databricks.v1+cell": {
     "cellMetadata": {},
     "inputWidgets": {},
     "nuid": "39950816-ed30-43b6-8df8-ce54bb47c64b",
     "showTitle": false,
     "tableResultSettingsMap": {},
     "title": ""
    }
   },
   "source": [
    "Create a view to store cleaned data.\n",
    "\n",
    "Tasks:\n",
    "\n",
    "* All features (except **tenure**) are transformed to DOUBLE.\n",
    "* Variable **tenure** is applied by TRIM funcion to remove white spaces.\n",
    "* Variables **credit_limit** and **minimum_payments** tackle missing-values problem by complete them with the MEDIAN."
   ]
  },
  {
   "cell_type": "code",
   "execution_count": 0,
   "metadata": {
    "application/vnd.databricks.v1+cell": {
     "cellMetadata": {
      "byteLimit": 2048000,
      "implicitDf": true,
      "rowLimit": 10000
     },
     "inputWidgets": {},
     "nuid": "e04b1bac-d7c3-483b-8bd1-46cbe0633c0c",
     "showTitle": false,
     "tableResultSettingsMap": {},
     "title": ""
    }
   },
   "outputs": [],
   "source": [
    "%sql\n",
    "CREATE OR REPLACE TEMP VIEW data_cleaned_view AS\n",
    "SELECT\n",
    "  CAST(balance AS DOUBLE) AS balance,\n",
    "  CAST(balance_frequency AS DOUBLE) AS balance_frequency,\n",
    "  CAST(purchases AS DOUBLE) AS purchases,\n",
    "  CAST(oneoff_purchases AS DOUBLE) AS oneoff_purchases,\n",
    "  CAST(installments_purchases AS DOUBLE) AS installments_purchases,\n",
    "  CAST(cash_advance AS DOUBLE) AS cash_advance,\n",
    "  CAST(purchases_frequency AS DOUBLE) AS purchases_frequency,\n",
    "  CAST(oneoff_purchases_frequency AS DOUBLE) AS oneoff_purchases_frequency,\n",
    "  CAST(purchases_installments_frequency AS DOUBLE) AS purchases_installments_frequency,\n",
    "  CAST(cash_advance_frequency AS DOUBLE) AS cash_advance_frequency,\n",
    "  CAST(cash_advance_trx AS DOUBLE) AS cash_advance_trx,\n",
    "  CAST(purchases_trx AS DOUBLE) AS purchases_trx,\n",
    "  IFNULL(CAST(credit_limit AS DOUBLE), (SELECT credit_limit_median FROM data_median_view)) AS credit_limit,\n",
    "  CAST(payments AS DOUBLE) AS payments,\n",
    "  IFNULL(CAST(minimum_payments AS DOUBLE), (SELECT minimum_payments_median FROM data_median_view)) AS minimum_payments,\n",
    "  CAST(prc_full_payment AS DOUBLE) AS prc_full_payment,\n",
    "  TRIM(tenure) AS tenure\n",
    "FROM raw_data;"
   ]
  },
  {
   "cell_type": "markdown",
   "metadata": {
    "application/vnd.databricks.v1+cell": {
     "cellMetadata": {},
     "inputWidgets": {},
     "nuid": "21e58e1c-158c-4a69-9caa-dddc7f2703bc",
     "showTitle": false,
     "tableResultSettingsMap": {},
     "title": ""
    }
   },
   "source": [
    "Verify if there is still missing values"
   ]
  },
  {
   "cell_type": "code",
   "execution_count": 0,
   "metadata": {
    "application/vnd.databricks.v1+cell": {
     "cellMetadata": {
      "byteLimit": 2048000,
      "implicitDf": true,
      "rowLimit": 10000
     },
     "inputWidgets": {},
     "nuid": "40c65e90-dc35-4642-8d02-e7a92b34ca60",
     "showTitle": false,
     "tableResultSettingsMap": {},
     "title": ""
    }
   },
   "outputs": [],
   "source": [
    "%sql\n",
    "SELECT * FROM data_cleaned_view WHERE credit_limit IS NULL LIMIT 5;"
   ]
  },
  {
   "cell_type": "code",
   "execution_count": 0,
   "metadata": {
    "application/vnd.databricks.v1+cell": {
     "cellMetadata": {
      "byteLimit": 2048000,
      "implicitDf": true,
      "rowLimit": 10000
     },
     "inputWidgets": {},
     "nuid": "a3f78c12-b711-4cda-b667-b55477637e75",
     "showTitle": false,
     "tableResultSettingsMap": {},
     "title": ""
    }
   },
   "outputs": [],
   "source": [
    "%sql\n",
    "SELECT * FROM data_cleaned_view WHERE minimum_payments IS NULL LIMIT 5;"
   ]
  },
  {
   "cell_type": "markdown",
   "metadata": {
    "application/vnd.databricks.v1+cell": {
     "cellMetadata": {},
     "inputWidgets": {},
     "nuid": "844a406d-59c6-49df-af86-6571555dbd92",
     "showTitle": false,
     "tableResultSettingsMap": {},
     "title": ""
    }
   },
   "source": [
    "Show a sample of cleaned data."
   ]
  },
  {
   "cell_type": "code",
   "execution_count": 0,
   "metadata": {
    "application/vnd.databricks.v1+cell": {
     "cellMetadata": {
      "byteLimit": 2048000,
      "implicitDf": true,
      "rowLimit": 10000
     },
     "inputWidgets": {},
     "nuid": "73628770-e426-46bb-bf53-c7f4abb34df8",
     "showTitle": false,
     "tableResultSettingsMap": {},
     "title": ""
    }
   },
   "outputs": [],
   "source": [
    "%sql\n",
    "SELECT * FROM data_cleaned_view LIMIT 5;"
   ]
  },
  {
   "cell_type": "markdown",
   "metadata": {
    "application/vnd.databricks.v1+cell": {
     "cellMetadata": {},
     "inputWidgets": {},
     "nuid": "2659b81e-ffc4-4d0f-8d1d-167a24cf5b80",
     "showTitle": false,
     "tableResultSettingsMap": {},
     "title": ""
    }
   },
   "source": [
    "### 3.3. Load\n",
    "\n",
    "Load cleaned data in a SILVER table."
   ]
  },
  {
   "cell_type": "code",
   "execution_count": 0,
   "metadata": {
    "application/vnd.databricks.v1+cell": {
     "cellMetadata": {
      "byteLimit": 2048000,
      "implicitDf": true,
      "rowLimit": 10000
     },
     "inputWidgets": {},
     "nuid": "19fdf095-ac64-4ae2-89b4-718ef4ec59d2",
     "showTitle": false,
     "tableResultSettingsMap": {},
     "title": ""
    }
   },
   "outputs": [],
   "source": [
    "%sql\n",
    "CREATE OR REPLACE TABLE silver_data AS\n",
    "SELECT * FROM data_cleaned_view;"
   ]
  },
  {
   "cell_type": "code",
   "execution_count": 0,
   "metadata": {
    "application/vnd.databricks.v1+cell": {
     "cellMetadata": {
      "byteLimit": 2048000,
      "implicitDf": true,
      "rowLimit": 10000
     },
     "inputWidgets": {},
     "nuid": "65885a63-8e29-4a91-bd1e-1912ecd89581",
     "showTitle": false,
     "tableResultSettingsMap": {},
     "title": ""
    }
   },
   "outputs": [],
   "source": [
    "%sql\n",
    "SELECT * FROM silver_data LIMIT 5;"
   ]
  },
  {
   "cell_type": "markdown",
   "metadata": {
    "application/vnd.databricks.v1+cell": {
     "cellMetadata": {},
     "inputWidgets": {},
     "nuid": "b48b7004-8f7f-445b-8e60-18d3ffb5693c",
     "showTitle": false,
     "tableResultSettingsMap": {},
     "title": ""
    }
   },
   "source": [
    "Drop views"
   ]
  },
  {
   "cell_type": "code",
   "execution_count": 0,
   "metadata": {
    "application/vnd.databricks.v1+cell": {
     "cellMetadata": {
      "byteLimit": 2048000,
      "implicitDf": true,
      "rowLimit": 10000
     },
     "inputWidgets": {},
     "nuid": "f03a6aad-eabb-4c18-a954-905af2e5a14c",
     "showTitle": false,
     "tableResultSettingsMap": {},
     "title": ""
    }
   },
   "outputs": [],
   "source": [
    "%sql\n",
    "DROP VIEW IF EXISTS data_cleaned_view;\n",
    "DROP VIEW IF EXISTS data_median_view;"
   ]
  }
 ],
 "metadata": {
  "application/vnd.databricks.v1+notebook": {
   "computePreferences": null,
   "dashboards": [],
   "environmentMetadata": null,
   "inputWidgetPreferences": null,
   "language": "python",
   "notebookMetadata": {
    "mostRecentlyExecutedCommandWithImplicitDF": {
     "commandId": 4642573466303095,
     "dataframes": [
      "_sqldf"
     ]
    },
    "pythonIndentUnit": 4
   },
   "notebookName": "2_etl_process_notebook_sql",
   "widgets": {}
  },
  "kernelspec": {
   "display_name": "sklearn-env-1-5",
   "language": "python",
   "name": "python3"
  },
  "language_info": {
   "name": "python"
  }
 },
 "nbformat": 4,
 "nbformat_minor": 0
}
